{
 "cells": [
  {
   "cell_type": "markdown",
   "metadata": {},
   "source": [
    "# Data Science: Bridging Principle and Practice\n",
    "## Part 5: Categorizing Data\n",
    "\n",
    "<img src=\"images/ab_test.PNG\" style=\"width: 900px; height: 250px;\" />\n",
    "\n",
    "\n",
    "### Table of Contents\n",
    "\n",
    "\n",
    "*In this notebook, we will learn how to manipulate and visualize categorical data.*\n",
    "\n",
    "<ol start=5>\n",
    "    <li><a href=\"section5\">DataFrames II: Categorizing Data</a></li>\n",
    "    <ol>\n",
    "        <li><a href=\"subsection5a\">Groupby</a></li>\n",
    "        <li><a href=\"subsection5b\">Visualization: Bar Plots</a></li>\n",
    "        <li><a href=\"subsection5c\">Pivots</a></li>\n",
    "    </ol>\n",
    "    </ol>"
   ]
  },
  {
   "cell_type": "code",
   "execution_count": null,
   "metadata": {},
   "outputs": [],
   "source": [
    "# dependencies: THIS CELL MUST BE RUN\n",
    "import pandas as pd\n",
    "import seaborn as sns\n",
    "%matplotlib inline"
   ]
  },
  {
   "cell_type": "markdown",
   "metadata": {},
   "source": [
    "In the previous notebook, we learned some basic Python and Table operations and applied them to the Rocket Fuel data to answer questions about the profitability of the ad campaign. \n",
    "\n",
    "Here, we'll build on those previous skills to dive deeper into the Rocket Fuel case. We'll explore questions including:\n",
    "\n",
    "- How did conversions relate to different *hours of the day* and *days of the week*?\n",
    "- How did the *total number of ads seen* relate to how often users converted?\n",
    "- Was the difference in conversion proportions between the experimental and control groups *statistically significant*?\n",
    "\n",
    "To answer these questions, we'll need to know a few additional Table operations."
   ]
  },
  {
   "cell_type": "markdown",
   "metadata": {},
   "source": [
    "# 5. DataFrames II: Categorizing Data <a id='section5'></a>\n",
    "\n",
    "As a reminder, our data looks like this:"
   ]
  },
  {
   "cell_type": "code",
   "execution_count": null,
   "metadata": {},
   "outputs": [],
   "source": [
    "# load the rocket fuel data\n",
    "ads = pd.read_csv('data/rocketfuel_data_renamed.csv', index_col=0)\n",
    "\n",
    "# display the first ten rows\n",
    "ads.head()"
   ]
  },
  {
   "cell_type": "markdown",
   "metadata": {},
   "source": [
    "This Table shows the conversion behavior of each user in the study. But, we're not interested in individual user behavior right now- we want to know the behavior of *all users in a specific category*, like everyone who saw the most ads on a Monday, or everyone who saw 200 ads in total.\n",
    "\n",
    "In this section, we'll talk about:\n",
    "1. The definition of **categorical data**\n",
    "2. How to use DataFrame methods to **group data into categories**\n",
    "3. Using **visualizations** to view and compare categories\n",
    "\n"
   ]
  },
  {
   "cell_type": "markdown",
   "metadata": {},
   "source": [
    "Let's say we have data about some of the handbags TaskBella sells, including the color, price, and rating for each collected from different stores."
   ]
  },
  {
   "cell_type": "code",
   "execution_count": null,
   "metadata": {},
   "outputs": [],
   "source": [
    "# create the example handbag data Table\n",
    "handbags = pd.DataFrame(data={\"color\":[\"black\", \"red\", \"red\", \"brown\", \"black\"],\n",
    "                               \"price\":[115.99, 130, 124.95, 144.99, 120.05],\n",
    "                               \"rating\":[4, 4, 5, 3, 4]})\n",
    "handbags"
   ]
  },
  {
   "cell_type": "markdown",
   "metadata": {},
   "source": [
    "#### Data Types: Numerical and Categorical\n",
    "This table has two different types of data: **numerical** and **categorical**.\n",
    "\n",
    "Price and rating are **numerical**: they have numbers for values, and we can order those values along a scale from least to most.\n",
    "\n",
    "Color is **categorial**: it has strings (text) for values, and those values can't really be ordered from least to most.\n",
    "\n",
    "The type of data affects the kind of analysis we can do, in addition to how we visualize it. For now, we're going to focus on categorical data.\n",
    "\n"
   ]
  },
  {
   "cell_type": "markdown",
   "metadata": {},
   "source": [
    "### 5a. Groupby <a id='subsection5a'></a>\n",
    "\n",
    "A question we might ask is how price or rating is different for different categories of color. To conduct this analysis, we want to do something like this:\n",
    "\n",
    "1. Find all the possible colors\n",
    "2. Sort all the rows of the DataFrame into groups, one for each unique color\n",
    "3. Return a new DataFrame with one row for each color and information about that color of bag\n",
    "\n",
    "To use `groupby`, call it on a DataFrame using dot notation and specify which column you want to group on as the argument."
   ]
  },
  {
   "cell_type": "code",
   "execution_count": null,
   "metadata": {},
   "outputs": [],
   "source": [
    "# group by handbag color\n",
    "handbags.groupby(\"color\")"
   ]
  },
  {
   "cell_type": "markdown",
   "metadata": {},
   "source": [
    "The output above looks pretty strange. After we've told the computer to group the data by color, it doesn't know what to do with the groups. Should it count the items in the group? Should it take the average?\n",
    "\n",
    "So, when we group items in a DataFrame, we also must say how we want to *aggregate* the groups by specifying an *aggregation function*. For this example, let's get the counts of each color of bag."
   ]
  },
  {
   "cell_type": "code",
   "execution_count": null,
   "metadata": {},
   "outputs": [],
   "source": [
    "# group by handbag color and return the count of each\n",
    "handbags.groupby(\"color\").count()"
   ]
  },
  {
   "cell_type": "markdown",
   "metadata": {},
   "source": [
    "We now have a new DataFrame with the count of each number of handbag. Notice that the \"price\" and \"rating\" columns are the same because counts don't depend on price or rating.\n",
    "\n",
    "<br/>\n",
    "<div class=\"alert alert-warning\">\n",
    "    <b>EXERCISE:</b> Use `group` to group the handbags by `\"rating\"`.\n",
    "    <div>"
   ]
  },
  {
   "cell_type": "code",
   "execution_count": null,
   "metadata": {},
   "outputs": [],
   "source": [
    "# group by rating\n",
    "handbags.groupby(\"...\").count()"
   ]
  },
  {
   "cell_type": "markdown",
   "metadata": {},
   "source": [
    "There are several aggregation methods besides `count`.\n",
    "\n",
    "For example, if we want to know the average price and average rating of each color of handbag, we can use the `mean` method."
   ]
  },
  {
   "cell_type": "code",
   "execution_count": null,
   "metadata": {},
   "outputs": [],
   "source": [
    "# get average price and rating per color\n",
    "bag_avgs = handbags.groupby(\"color\").mean()\n",
    "bag_avgs"
   ]
  },
  {
   "cell_type": "markdown",
   "metadata": {},
   "source": [
    "A picture might help to understand what just happened.\n",
    "\n",
    "<img src=\"images/group_ex.png\" style=\"width: 1000px; height: 400px;\" />\n",
    "\n",
    "<br/>\n"
   ]
  },
  {
   "cell_type": "markdown",
   "metadata": {},
   "source": [
    "<div class=\"alert alert-warning\">\n",
    "<b>EXERCISE:</b> You can use a wide variety of aggregation functions, including `sum`, `min`, and `max`, `mean`, and `median`.\n",
    "\n",
    "Using `groupby`, group the handbags by color and find the minimum price and rating for each group.\n",
    "</div>"
   ]
  },
  {
   "cell_type": "code",
   "execution_count": null,
   "metadata": {},
   "outputs": [],
   "source": [
    "# fill in the ... with the correct code\n",
    "..."
   ]
  },
  {
   "cell_type": "markdown",
   "metadata": {},
   "source": [
    "<div class=\"alert alert-info\">\n",
    "**Collection functions and data types:**\n",
    "The collect function you use must also work on the type of data in your rows for each group. For example, if you try to reduce using `mean` to get the average value and your rows include text data, you will get an error since the computer doesn't know how to take the average of a word.*\n",
    "\n",
    "</div>"
   ]
  },
  {
   "cell_type": "markdown",
   "metadata": {},
   "source": [
    "### 5b. Visualization: Bar Plots <a id=\"subsection5b\"></a>\n",
    "\n",
    "DataFrames provide great ways to organize and display data. But as data sets grow very large (i.e. thousands, tens of thousands, even millions of rows), it becomes harder and harder to understand what's going on with the data just by looking at it in a table.\n",
    "\n",
    "*Visualizations* are helpful to:\n",
    "- get a big-picture understanding of a data set\n",
    "- compare two or more variables\n",
    "- find the variance of a variable\n",
    "\n",
    "and much more.\n",
    "\n",
    "Let's look again at the DataFrame we just made containing the average price and rating for each color."
   ]
  },
  {
   "cell_type": "code",
   "execution_count": null,
   "metadata": {},
   "outputs": [],
   "source": [
    "bag_avgs"
   ]
  },
  {
   "cell_type": "markdown",
   "metadata": {},
   "source": [
    "One of the best ways to visualize categorical data is with a **bar plot**. Bar plots allow us to compare multiple categories within the same plot. \n",
    "\n",
    "To make our plots, we'll be using a software package called **Seaborn**. Seaborn is built to make polished visualizations in Python without a lot of code. The standard abbreviation for Seaborn in Python code is `sns`, after [a character in the TV show *The West Wing*](https://en.wikipedia.org/wiki/Sam_Seaborn)."
   ]
  },
  {
   "cell_type": "code",
   "execution_count": null,
   "metadata": {},
   "outputs": [],
   "source": [
    "sns.barplot(x=\"color\", y=\"rating\", data=bag_avgs.reset_index())"
   ]
  },
  {
   "cell_type": "markdown",
   "metadata": {},
   "source": [
    "Each cateogory is listed on the vertical axis and represented by a bar. The length of each bar is the average price."
   ]
  },
  {
   "cell_type": "markdown",
   "metadata": {},
   "source": [
    "#### References\n",
    "\n",
    "- Rocket Fuel data and discussion questions adapted from materials by Zsolt Katona and Brian Bell, BerkeleyHaas Case Series"
   ]
  },
  {
   "cell_type": "markdown",
   "metadata": {},
   "source": [
    "Author: Keeley Takimoto"
   ]
  }
 ],
 "metadata": {
  "kernelspec": {
   "display_name": "Python 3",
   "language": "python",
   "name": "python3"
  },
  "language_info": {
   "codemirror_mode": {
    "name": "ipython",
    "version": 3
   },
   "file_extension": ".py",
   "mimetype": "text/x-python",
   "name": "python",
   "nbconvert_exporter": "python",
   "pygments_lexer": "ipython3",
   "version": "3.6.4"
  }
 },
 "nbformat": 4,
 "nbformat_minor": 2
}
