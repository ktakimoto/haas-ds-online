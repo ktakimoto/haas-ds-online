{
 "cells": [
  {
   "cell_type": "markdown",
   "metadata": {},
   "source": [
    "# Data Science: Bridging Principles and Practice\n",
    "## Scikit-Learn Template\n",
    "\n",
    "<img src=\"images/office-and-workers-in-barcelona-spain.jpg\" />\n",
    "\n",
    "<br>\n",
    "\n",
    "*In this notebook, we will walk through solving a classification problem using machine learning. To do so, we will introduce the Scikit-Learn machine learning library for Python.*\n",
    "\n",
    "### Table of Contents\n",
    "\n",
    "<a href=\"#sectioncase\">Case Study: Employee Attrition at IBM</a>\n",
    "\n",
    "<ol start=\"9\">\n",
    "    <li><a href=\"#section9\">Machine Learning</a>\n",
    "        <ol type=a>\n",
    "            <br>\n",
    "            <li><a href=\"#section9a\">The K-Nearest Neighbors Algorithm</a></li>\n",
    "            <br>\n",
    "            <li><a href=\"#section9b\">Using Scikit-Learn: An Example</a></li>\n",
    "            <br>\n",
    "            <li><a href=\"#section9c\">Using Scikit-Learn: KNN</a></li>            \n",
    "        </ol>\n",
    "    </li>\n",
    "    </ol>"
   ]
  },
  {
   "cell_type": "code",
   "execution_count": null,
   "metadata": {},
   "outputs": [],
   "source": [
    "# run this cell to import some necessary software\n",
    "import pandas as pd\n",
    "import numpy as np\n",
    "import matplotlib.pyplot as plt\n",
    "plt.style.use('fivethirtyeight')\n",
    "%matplotlib inline\n",
    "import sklearn\n",
    "import seaborn as sns\n",
    "\n",
    "from sklearn.model_selection import train_test_split\n",
    "from mpl_toolkits.mplot3d import Axes3D \n",
    "\n",
    "# set the random seed for reproducibility\n",
    "np.random.seed(28)"
   ]
  },
  {
   "cell_type": "markdown",
   "metadata": {},
   "source": [
    "## Overview <a id=\"section9b\"></a>\n",
    "\n",
    "[Scikit-Learn](https://scikit-learn.org/stable/index.html) is free, open-source software for machine learning in Python. The software includes tools to create, train, and evaluate machine learning models.\n",
    "\n",
    "Overview of using Scikit-Learn for machine learning:\n",
    "\n",
    "1. Load the data\n",
    "1. Choose your explanatory variables (what you're going to use to make predictions) and response variable (what you want to predict) \n",
    "1. Split the data into training and testing sets (and, if you're doing a lot of parameter tuning, a validation set)\n",
    "2. Create a model in Python\n",
    "3. Fit the data to the model\n",
    "4. Make predictions using your fitted model\n",
    "5. Score the accuracy of your model\n",
    "\n"
   ]
  },
  {
   "cell_type": "markdown",
   "metadata": {},
   "source": [
    "## Before you use this template\n",
    "- This template assumes that your dataset is already clean.\n",
    "- You may choose to clean the data using Python or another software, like Excel.\n",
    "- Every dataset will have different cleaning needs. Common ones including dealing with missing values (removing or imputing them), converting values to standard data types, or feature engineering (i.e. creating new columns of values calculated from other variables)\n",
    "\n",
    "<div class=\"alert alert-info\"><b> Why don't we have a template for data cleaning? </b></div>"
   ]
  },
  {
   "cell_type": "markdown",
   "metadata": {},
   "source": [
    "\n",
    "## 1. Load the data\n",
    "\n",
    "- "
   ]
  },
  {
   "cell_type": "code",
   "execution_count": null,
   "metadata": {},
   "outputs": [],
   "source": [
    "# load the data\n",
    "# fill in the ... with the path to the data file. Don't forget the file extension"
   ]
  },
  {
   "cell_type": "code",
   "execution_count": null,
   "metadata": {},
   "outputs": [],
   "source": [
    "# run this cell to load the data\n",
    "data = pd.read_csv(\"...\")\n",
    "\n",
    "# show the first 5 rows of the data\n",
    "data.head()"
   ]
  },
  {
   "cell_type": "markdown",
   "metadata": {},
   "source": [
    "## 3. Select the explanatory and response variables\n",
    "- explanatory variables should be the names of the appropriate columns, each enclosed in quotation marks, listed inside the square brackets and separated by commas \n",
    "- response variable should be the name of the appropriate column, enclosed in quotation marks"
   ]
  },
  {
   "cell_type": "code",
   "execution_count": null,
   "metadata": {},
   "outputs": [],
   "source": [
    "# choose explanatory and response variables\n",
    "expl_vars = [...]\n",
    "\n",
    "resp_var = ..."
   ]
  },
  {
   "cell_type": "code",
   "execution_count": null,
   "metadata": {},
   "outputs": [],
   "source": [
    "# create the X DataFrame\n",
    "X = data.loc[:, expl_vars]\n",
    "\n",
    "# show the first 5 rows\n",
    "X.head()"
   ]
  },
  {
   "cell_type": "code",
   "execution_count": null,
   "metadata": {},
   "outputs": [],
   "source": [
    "# create the y array\n",
    "y = data[resp_var]\n",
    "\n",
    "# show the first 5 items\n",
    "y.head()"
   ]
  },
  {
   "cell_type": "markdown",
   "metadata": {},
   "source": [
    "## 4. Split into train, test and (optionally) validation sets\n",
    "\n",
    "- the random seed can be any number, as long as it's consistent\n",
    "- use a validation set if you want to go through the full model selection process, including tuning hyperparameters. See Notebook 08 (Model Selection) for an example.\n",
    "- running only the first cell will put 80% of the data in the training set and 20% in the test set\n",
    "- running the first and second cells will put 60% of the data in the training set, 20% in the test set, and 20% in the validation set\n",
    "- to change the proportions of how much data goes in each set, edit the train_size and test_size arguments"
   ]
  },
  {
   "cell_type": "code",
   "execution_count": null,
   "metadata": {},
   "outputs": [],
   "source": [
    "# set the random seed\n",
    "np.random.seed(28)"
   ]
  },
  {
   "cell_type": "code",
   "execution_count": null,
   "metadata": {},
   "outputs": [],
   "source": [
    "\n",
    "# run this cell to split the data into training and test sets\n",
    "\n",
    "X_train, X_test, y_train, y_test = train_test_split(X, y, train_size=0.8, test_size=0.2)"
   ]
  },
  {
   "cell_type": "code",
   "execution_count": null,
   "metadata": {},
   "outputs": [],
   "source": [
    "# if you want to create a validation set, delete the # from the beginning of the next line and run the cell\n",
    "\n",
    "# X_train, X_test, X_val, y_val = train_test_split(X, y, train_size=0.75, test_size=0.25)"
   ]
  },
  {
   "cell_type": "markdown",
   "metadata": {},
   "source": [
    "## 5. Import and create the model\n"
   ]
  },
  {
   "cell_type": "code",
   "execution_count": null,
   "metadata": {},
   "outputs": [],
   "source": [
    "# import the code that creates linear regression models\n",
    "from sklearn.linear_model import LinearRegression\n",
    "\n",
    "# create a new, untrained model\n",
    "lr_model = LinearRegression(fit_intercept=True, normalize=False)\n"
   ]
  },
  {
   "cell_type": "markdown",
   "metadata": {},
   "source": [
    "## 6. Fit the model"
   ]
  },
  {
   "cell_type": "code",
   "execution_count": null,
   "metadata": {},
   "outputs": [],
   "source": [
    "# fit the model\n",
    "lr_model.fit(X_train, y_train)"
   ]
  },
  {
   "cell_type": "markdown",
   "metadata": {},
   "source": [
    "## 7. Make predictions with fitted model\n",
    "\n"
   ]
  },
  {
   "cell_type": "code",
   "execution_count": null,
   "metadata": {},
   "outputs": [],
   "source": [
    "# save the predictions to a variable\n",
    "lr_predictions = lr_model.predict(X_test)\n",
    "# show the predictions\n",
    "lr_predictions"
   ]
  },
  {
   "cell_type": "markdown",
   "metadata": {},
   "source": [
    "## 8. Score the model\n",
    "\n",
    "- note: depending on which algorithm you use, the `score` method will return something slightly different. The [Scikit-Learn documentation](https://scikit-learn.org/stable/modules/generated/sklearn.linear_model.LinearRegression.html)for each type of model will have details on what `score` shows if you scroll down.\n"
   ]
  },
  {
   "cell_type": "code",
   "execution_count": null,
   "metadata": {},
   "outputs": [],
   "source": [
    "# save the score to a variable\n",
    "lr_score = lr_model.score(X_test, y_test)\n",
    "# show the score\n",
    "lr_score"
   ]
  },
  {
   "cell_type": "markdown",
   "metadata": {},
   "source": [
    "### 9c. Using Scikit-Learn: KNN <a id=\"section9c\"></a>\n",
    "\n",
    "Now it's time to return to our IBM employee attrition data set, to see if we can use a k-nearest neighbors model to predict whether or not an employee will leave the company. This section will follow the steps in section 9b very closely- if you're stuck, check the LinearRegression code for some hints.\n",
    "\n",
    "As a reminder, here's what our attrition data looks like:"
   ]
  },
  {
   "cell_type": "code",
   "execution_count": null,
   "metadata": {},
   "outputs": [],
   "source": [
    "# the first five rows of the attrition data\n",
    "attrition.head()"
   ]
  },
  {
   "cell_type": "markdown",
   "metadata": {},
   "source": [
    "Remember, our steps are:\n",
    "\n",
    "1. Choose your explanatory variables (what you're going to use to make predictions) and response variable (what you want to predict) \n",
    "1. Split the data into training and testing sets \n",
    "2. Create a model in Python\n",
    "3. Fit the data to the model\n",
    "4. Make predictions using your fitted model\n",
    "5. Score the accuracy of your model\n",
    "\n",
    "Start by choosing explanatory and response variables. For this exercise, we'll try predicting attrition based on **monthly income**, **number of years in current role**, and **overtime eligibility**.\n",
    "\n",
    "<div class=\"alert alert-warning\">\n",
    "    <b>EXERCISE</b>: Choose explanatory and response variables.\n",
    "    <ul>\n",
    "        <li>explanatory variables must be numerical feature column names that could help predict attrition. For this exercise, we'll be using the columns with data on the employee's monthly income, years in current role, and overtime status. The names should be strings (i.e. inside quotation marks), listed within the square brackets and separated by commas</li>\n",
    "        <li>the response variable should be the name of the column that says whether or not an employee left by attrition, inside quotation marks</li>\n",
    "    </ul>\n",
    "    </div>"
   ]
  },
  {
   "cell_type": "code",
   "execution_count": null,
   "metadata": {},
   "outputs": [],
   "source": [
    "# choose explanatory and response variables\n",
    "expl_vars_attrition = [\"DistanceFromHome\"]\n",
    "\n",
    "resp_var_attrition = \"Attrition\""
   ]
  },
  {
   "cell_type": "code",
   "execution_count": null,
   "metadata": {},
   "outputs": [],
   "source": [
    "# run this cell to check your answer for some common mistakes\n",
    "check(\"tests/09/vars.ok\")"
   ]
  },
  {
   "cell_type": "markdown",
   "metadata": {},
   "source": [
    "Now, split the data into training and test sets. If you've chosen your variables correctly, you can just run the next few cells. The training data will be called `X_train_att` and `y_train_att`, while the test data will be called `X_test_att` and `y_test_att`."
   ]
  },
  {
   "cell_type": "code",
   "execution_count": null,
   "metadata": {},
   "outputs": [],
   "source": [
    "# once you've chosen your variables, just run this cell\n",
    "# create the X DataFrame\n",
    "X_attrition = attrition.loc[:, expl_vars_attrition]\n",
    "\n",
    "# show the first 5 rows\n",
    "X_attrition.head()"
   ]
  },
  {
   "cell_type": "code",
   "execution_count": null,
   "metadata": {},
   "outputs": [],
   "source": [
    "# once you've chosen your variables, just run this cell\n",
    "# create the y array\n",
    "y_attrition = attrition[resp_var_attrition]\n",
    "\n",
    "# show the first 5 items\n",
    "y_attrition.head()"
   ]
  },
  {
   "cell_type": "code",
   "execution_count": null,
   "metadata": {},
   "outputs": [],
   "source": [
    "# once you've chosen your variables, just run this cell\n",
    "# split the data into training and test\n",
    "X_train_att, X_test_att, y_train_att, y_test_att = train_test_split(X_attrition, y_attrition,\n",
    "                                                                    train_size=0.8, test_size=0.2)"
   ]
  },
  {
   "cell_type": "markdown",
   "metadata": {},
   "source": [
    "The next step is to create the KNN model. The first line of the next cell imports the code for the model, which is called `KNeighborsClassifier`. For now, we'll use the default number of neighbors, which is 5.\n",
    "\n",
    "<div class=\"alert alert-warning\">\n",
    "    <b>EXERCISE:</b> Create the KNN model. Replace the ellipses with a model creation call expression, which is the model type followed by parentheses (don't put anything in the parentheses to use the default number of neighbors). We will assign the created model the name of <code>knn</code> using an equals sign.\n",
    "    </div>"
   ]
  },
  {
   "cell_type": "code",
   "execution_count": null,
   "metadata": {},
   "outputs": [],
   "source": [
    "from sklearn.neighbors import KNeighborsClassifier\n",
    "\n",
    "# create the KNeighborsClassifier\n",
    "knn = KNeighborsClassifier()\n"
   ]
  },
  {
   "cell_type": "code",
   "execution_count": null,
   "metadata": {},
   "outputs": [],
   "source": [
    "# run this cell to check your answer for some common mistakes\n",
    "check(\"tests/09/model.ok\")"
   ]
  },
  {
   "cell_type": "markdown",
   "metadata": {},
   "source": [
    "With the model created, it can now be fit. \n",
    "\n",
    "<div class=\"alert alert-warning\">\n",
    "    <b>EXERCISE:</b> Fit the KNN model to the training data. Use the <code>fit</code> method on the model to train it. <code>fit</code> takes two arguments: the training feature matrix (<code>X_train_att</code>) and the list of classes for the training data (<code>y_train_att</code>).\n",
    "    </div>"
   ]
  },
  {
   "cell_type": "code",
   "execution_count": null,
   "metadata": {},
   "outputs": [],
   "source": [
    "# fit the knn model to the training data\n",
    "# look at the code for the linear regression model for a hint\n",
    "knn.fit(X_train_att, y_train)"
   ]
  },
  {
   "cell_type": "markdown",
   "metadata": {},
   "source": [
    "A fitted model can make predictions. Use the fitted model's `predict` to predict attrition for the test data. `predict` takes only one argument: an X matrix of feature data with the same features (columns) that it was trained on.\n",
    "\n",
    "<div class=\"alert alert-warning\">\n",
    "    <b>EXERCISE:</b> Use <code>knn.predict</code> to make predictions for the test data (<code>X_test_att</code>). Check the code for the linear regression model predictions for a hint on how the code expression should look.\n",
    "    </div>"
   ]
  },
  {
   "cell_type": "code",
   "execution_count": null,
   "metadata": {},
   "outputs": [],
   "source": [
    "# use the fitted knn model to predict attrition for the test data\n",
    "# look at the code for the linear regression model for a hint\n",
    "knn_predictions = ...\n",
    "knn_predictions"
   ]
  },
  {
   "cell_type": "code",
   "execution_count": null,
   "metadata": {},
   "outputs": [],
   "source": [
    "# run this cell to check your answer for some common mistakes\n",
    "check(\"tests/09/pred.ok\")"
   ]
  },
  {
   "cell_type": "markdown",
   "metadata": {},
   "source": [
    "Finally, let's evaluate the model. \n",
    "\n",
    "For KNN, the `score` method [returns the mean accuracy on the data and labels](https://scikit-learn.org/stable/modules/generated/sklearn.neighbors.KNeighborsClassifier.html#sklearn.neighbors.KNeighborsClassifier.score). Put another way, the score for KNN is the proportion of employees correctly labeled by the model- the number of correctly labeled employees divided by the total number of employees. So, a score of 1.0 indicates a perfect model, and a score of 0.0 indicates a model that got all classifications wrong.\n",
    "\n",
    "<div class=\"alert alert-warning\">\n",
    "    <b>EXERCISE:</b> Use the model's <code>score</code> method to evaluate its accuracy on the test data. <code>score</code> requires 2 arguments: a matrix of feature data (X) and an array of response variables (y).\n",
    "    </div>"
   ]
  },
  {
   "cell_type": "code",
   "execution_count": null,
   "metadata": {},
   "outputs": [],
   "source": [
    "# use the fitted knn model to score predictions for the test data\n",
    "# look at the code for the linear regression model for a hint\n",
    "knn_score = ...\n",
    "# show the score\n",
    "knn_score"
   ]
  },
  {
   "cell_type": "code",
   "execution_count": null,
   "metadata": {},
   "outputs": [],
   "source": [
    "# run this cell to check your answer for some common mistakes\n",
    "check(\"tests/09/score.ok\")"
   ]
  },
  {
   "cell_type": "markdown",
   "metadata": {},
   "source": [
    "#### Visualization\n",
    "When evaluating the KNN model, it can also be helpful to visualize the data so we can see the scope of the problem we're trying to solve. \n",
    "\n",
    "The following scatter plots plot our explanatory variables against each other. Every point represents a single employee, and the color and shape of the point indicate whether or not they left IBM: an orange circle indicates attrition and a blue triangle indicates the employee remained at IBM.\n",
    "\n",
    "Because KNN assumes that points of the same class are near to each other, the ideal KNN scatter plot would have all points of the same type located next to each other on the plot. \n",
    "\n",
    "This plot shows monthly income and years in current role:"
   ]
  },
  {
   "cell_type": "code",
   "execution_count": null,
   "metadata": {},
   "outputs": [],
   "source": [
    "# make the plots bigger\n",
    "sns.set(rc={'figure.figsize':(11,8)})\n",
    "\n",
    "# create the scatter plot\n",
    "sns.scatterplot(x=attrition[\"MonthlyIncome\"], \n",
    "                # add a bit of jitter to YearsInCurrentRole so the points overlap less\n",
    "                y=attrition[\"YearsInCurrentRole\"] + np.random.normal(scale = 0.3, size=attrition.shape[0]), \n",
    "                data=attrition,\n",
    "                hue=\"Attrition\", style=\"Attrition\", markers={0:\"^\", 1:\"o\"}, palette={0:\"#003262\", 1:\"#FDB515\"});"
   ]
  },
  {
   "cell_type": "markdown",
   "metadata": {},
   "source": [
    "Sometimes, adding a third dimension can make a difference for the KNN algorithm. The next plot shows all three of our chosen explanatory variables: monthly income, years in current role, and overtime. Note that overtime is a binary value (employees are either eligible for overtime or not), so the overtime axis splits the points into two planes (one for each possible value of \"OverTime\")."
   ]
  },
  {
   "cell_type": "code",
   "execution_count": null,
   "metadata": {},
   "outputs": [],
   "source": [
    "# make the 3D scatter plot\n",
    "fig = plt.figure(figsize=(12, 9))\n",
    "ax = fig.add_subplot(111, projection='3d')\n",
    "\n",
    "att_pos = attrition[attrition.Attrition == 1]\n",
    "att_neg = attrition[attrition.Attrition == 0]\n",
    "\n",
    "x_label = \"YearsInCurrentRole\"\n",
    "y_label = \"MonthlyIncome\"\n",
    "z_label = \"OverTime\"\n",
    "\n",
    "for data, m , l, c in [(att_neg, \"^\", \"Attrition = 0\", \"#003262\"), (att_pos, \"o\", \"Attrition = 1\", \"#FDB515\")]:\n",
    "    ax.scatter(data[x_label], data[y_label], (data[z_label] + np.random.normal(scale=0.05,size=data.shape[0])), \n",
    "               marker=m, label=l, color=c)\n",
    "\n",
    "ax.set_xlabel(x_label)\n",
    "ax.set_ylabel(y_label)\n",
    "ax.set_zlabel(z_label)\n",
    "\n",
    "plt.legend();"
   ]
  },
  {
   "cell_type": "markdown",
   "metadata": {},
   "source": [
    "<div class=\"alert alert-warning\">\n",
    "    <b>QUESTION:</b> based on the model score, how well is our classifier working? Based on the scatter plot, who are the people most likely to be mis-classified, and how can you tell (hint: think about how KNN makes predictions)?\n",
    "    </div>"
   ]
  },
  {
   "cell_type": "markdown",
   "metadata": {},
   "source": [
    "YOUR ANSWER HERE"
   ]
  },
  {
   "cell_type": "markdown",
   "metadata": {},
   "source": [
    "#### References\n",
    "- [IBM HR Analytics Employee Attrition & Performance mock data set](https://www.kaggle.com/pavansubhasht/ibm-hr-analytics-attrition-dataset/home) is made available under the [Open Database License](http://opendatacommons.org/licenses/odbl/1.0/). Any rights in individual contents of the database are licensed under the [Database Contents License](http://opendatacommons.org/licenses/dbcl/1.0/)."
   ]
  }
 ],
 "metadata": {
  "kernelspec": {
   "display_name": "Python 3",
   "language": "python",
   "name": "python3"
  },
  "language_info": {
   "codemirror_mode": {
    "name": "ipython",
    "version": 3
   },
   "file_extension": ".py",
   "mimetype": "text/x-python",
   "name": "python",
   "nbconvert_exporter": "python",
   "pygments_lexer": "ipython3",
   "version": "3.7.3"
  }
 },
 "nbformat": 4,
 "nbformat_minor": 2
}
