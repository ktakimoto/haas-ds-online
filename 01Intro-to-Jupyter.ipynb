{
 "cells": [
  {
   "cell_type": "markdown",
   "metadata": {},
   "source": [
    "# Data Science: Bridging Principles and Practice\n",
    "## Part 1: Introduction to Jupyter \n",
    "\n",
    "<img src=\"images/berkeley_img-4-1.jpg\" style=\"width: 700px; height: 300px;\" />\n",
    "\n",
    "In this notebook, we introduce Jupyter notebooks and how to use them.\n",
    "\n",
    "### Table of Contents\n",
    "\n",
    "1.  <a href='#section1'>Welcome to Jupyter Notebooks</a>\n",
    "\n",
    "    a. <a href='#subsection 1a'>Navigating</a>\n",
    "\n",
    "    b. <a href='#subsection 1b'>Running Code</a>\n",
    "\n",
    "    c. <a href='#subsection 1c'>Editing</a>\n",
    "\n",
    "    d. <a href='#subsection 1d'>Saving and Loading</a>\n",
    "    \n",
    "    e. <a href='#subsection 1e'> Completing the Notebooks</a>"
   ]
  },
  {
   "cell_type": "markdown",
   "metadata": {},
   "source": [
    "## 1. Welcome to Jupyter  <a id='section1'></a>\n",
    "\n",
    "Welcome to the Jupyter Notebook! **Notebooks** are files that can contain text, code, visualizations, and more. We'll be using them in this course to work with data hands-on.\n",
    "\n",
    "### 1a. Navigating <a id='section1a'></a>\n",
    "\n",
    "A notebook is composed of rectangular sections called **cells**. There are 2 kinds of cells: markdown and code. A **Markdown cell**, such as this one, has a white background and contains text. A **code cell** has a gray background and contains computer code. \n",
    "\n",
    "You can select any cell by clicking it once. A selected cell will have a colored box around it. After a cell is selected, you can navigate from cell to cell using the up and down arrow keys.\n"
   ]
  },
  {
   "cell_type": "markdown",
   "metadata": {},
   "source": [
    "Here's a Markdown cell."
   ]
  },
  {
   "cell_type": "code",
   "execution_count": null,
   "metadata": {},
   "outputs": [],
   "source": [
    "# this is a code cell"
   ]
  },
  {
   "cell_type": "markdown",
   "metadata": {},
   "source": [
    "Every notebook will start off with a *table of contents* that lists the topics to be covered. You can click on any of the section titles in the table of contents to jump to that section."
   ]
  },
  {
   "cell_type": "markdown",
   "metadata": {},
   "source": [
    "### 1b. Running Code <a id='section1b'></a>\n",
    "**Computer code** is a set of instructions or tasks given to a computer. In a Jupyter notebook, you can not only write code but also run code (i.e. send the instructions to the computer and ask it to carry them out).\n",
    "\n",
    "To run the code in a code cell, you must first select the code cell. Once the cell is selected, you can run it using any of the following methods:\n",
    "- press Shift-Enter or Ctrl-Enter, or\n",
    "- click the Run button in the toolbar at the top of the screen. \n",
    "\n",
    "If a code cell is running, you will see an asterisk (\\*) appear in the square brackets to the left of the cell. Once the cell has finished running, a number will replace the asterisk.\n",
    "\n",
    "You will see the *output* of the code cell (the results of the instructions you gave to the computer) beneath the code cell. "
   ]
  },
  {
   "cell_type": "code",
   "execution_count": null,
   "metadata": {},
   "outputs": [],
   "source": [
    "# run this cell\n",
    "print(\"Hello World!\")"
   ]
  },
  {
   "cell_type": "markdown",
   "metadata": {},
   "source": [
    "You'll notice that many code cells contain lines of blue text that start with a `#`. These are *comments*. Comments often contain helpful information about what the code does or what you are supposed to do in the cell. The leading `#` tells the computer to ignore them.\n",
    "\n",
    "Note: not all code will give back an output. You will usually only see an output if one of the instructions tells the computer to give you something back.\n",
    "\n",
    "Try running the following cell. Notice that it doesn't have an output, but you can still tell that it has been run by the number to the left of it. \n",
    "\n",
    "<div class=\"alert alert-info\"><b> Note</b>: just because there is code in a cell doesn't mean that the computer \"knows\" about it. Your computer will only complete your instructions when you run the code cell. Even if a code cell has no output, it's important to run the cell to send the instructions to the computer. </div>"
   ]
  },
  {
   "cell_type": "code",
   "execution_count": null,
   "metadata": {},
   "outputs": [],
   "source": [
    "# this cell doesn't have an output\n",
    "x = 42"
   ]
  },
  {
   "cell_type": "markdown",
   "metadata": {},
   "source": [
    "### 1c. Editing <a id='section1c'></a>\n",
    "\n",
    "You can edit a Markdown cell by clicking it twice. You'll notice that the colored box around the cell will change from blue to green to indicate it is in edit mode.\n",
    "\n",
    "Text in Markdown cells is written in [**Markdown**](https://daringfireball.net/projects/markdown/), a formatting syntax for plain text, so you may see some funky symbols when you edit a text cell. \n",
    "\n",
    "Once you've made your changes, you can exit text editing mode by running the cell. Edit the next cell to fix the misspelling."
   ]
  },
  {
   "cell_type": "markdown",
   "metadata": {},
   "source": [
    "Welcome to Dtaa Science in Jupyter."
   ]
  },
  {
   "cell_type": "markdown",
   "metadata": {},
   "source": [
    "Code cells can be edited any time after they are highlighted. Try editing the next code cell to print your name."
   ]
  },
  {
   "cell_type": "code",
   "execution_count": null,
   "metadata": {},
   "outputs": [],
   "source": [
    "# edit the code to print your name\n",
    "print(\"Hello: my name is ______\")"
   ]
  },
  {
   "cell_type": "markdown",
   "metadata": {},
   "source": [
    "### 1d. Saving and Loading <a id='section1d'></a>\n",
    "\n",
    "Your notebook can record all of your text and code edits, as well as any graphs you generate or calculations you make. You can save the notebook in its current state by clicking Ctrl-S, clicking the floppy disc icon in the toolbar at the top of the page, or by going to the File menu and selecting \"Save and Checkpoint\".\n",
    "\n",
    "The next time you open the notebook, it will look the same as when you last saved it.\n",
    "\n",
    "<div class=\"alert alert-info\"><p><b>Note:</b> after loading a notebook on a different day, you  will see all the outputs (graphs, computations, etc) from your last session, but your computer will have \"forgotten\" any names you gave to variables or functions. </p>\n",
    "\n",
    "<p>You can get the functions and variables back by re-running the cells where they were defined- the easiest way is to highlight the cell where you left off work, then go to the Cell menu at the top of the screen and click \"Run all above\". You can also use this menu to run all cells in the notebook by clicking \"Run all\".</p></div>"
   ]
  },
  {
   "cell_type": "markdown",
   "metadata": {},
   "source": [
    "### 1e. Completing the Notebooks <a id='section1e'></a>\n",
    "\n",
    "As you navigate the notebooks, you'll see colored cells with bold, all-capitalized headings that need to be filled in to complete the notebook:\n",
    "<div class=\"alert alert-warning\"> <b>EXERCISE</b> cells require you to fill in some code to solve a problem  </div>\n",
    "            \n",
    "<div class=\"alert alert-warning\"> <b>QUESTION</b> cells ask you to write short answers, often related to analyzing a graph or the result of a computation in the case study</div>\n"
   ]
  },
  {
   "cell_type": "markdown",
   "metadata": {},
   "source": [
    "#### Autograding\n",
    "\n",
    "Some coding cells will have an *autograder*. The autograder is code that will check a few things about the correctness of some of your coding answers.\n",
    "\n",
    "The autograder will:\n",
    "- give you feedback on whether you've made a common mistake\n",
    "- give you hints on how to fix common mistakes\n",
    "\n",
    "The autograder will NOT:\n",
    "- catch every possible mistake\n",
    "- guarantee that if you pass all tests, you have gotten the right answer.\n",
    "\n",
    "Note that these notebooks are graded on completion, not correctness. You will be able to check your answers when the solution sets are released later in the course.\n",
    "\n",
    "An example question is below:\n",
    "\n",
    "<div class=\"alert alert-warning\"> <b>EXERCISE:</b> What is the name of the type of notebook we are working in right now? Fill in the ellipses below with your answer.</div>"
   ]
  },
  {
   "cell_type": "code",
   "execution_count": null,
   "metadata": {},
   "outputs": [],
   "source": [
    "answer = ..."
   ]
  },
  {
   "cell_type": "code",
   "execution_count": null,
   "metadata": {},
   "outputs": [],
   "source": [
    "from gofer.ok import check\n",
    "check('tests/01Intro-to-Jupyter-tests/q1.py')"
   ]
  },
  {
   "cell_type": "markdown",
   "metadata": {},
   "source": [
    "#### References\n",
    "\n",
    "- Sections of \"Intro to Jupyter\" adapted from materials by Kelly Chen and Ashley Chien in [UC Berkeley Data Science Modules core resources](http://github.com/ds-modules/core-resources)"
   ]
  },
  {
   "cell_type": "markdown",
   "metadata": {},
   "source": [
    "Author: Keeley Takimoto"
   ]
  }
 ],
 "metadata": {
  "kernelspec": {
   "display_name": "Python 3",
   "language": "python",
   "name": "python3"
  },
  "language_info": {
   "codemirror_mode": {
    "name": "ipython",
    "version": 3
   },
   "file_extension": ".py",
   "mimetype": "text/x-python",
   "name": "python",
   "nbconvert_exporter": "python",
   "pygments_lexer": "ipython3",
   "version": "3.6.4"
  }
 },
 "nbformat": 4,
 "nbformat_minor": 2
}
