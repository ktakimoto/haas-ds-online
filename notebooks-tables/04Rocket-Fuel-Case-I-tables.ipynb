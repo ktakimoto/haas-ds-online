{
 "cells": [
  {
   "cell_type": "markdown",
   "metadata": {},
   "source": [
    "# Data Science Online\n",
    "## Part IV: Rocket Fuel Costs, Benefits, and Efficacy\n",
    "\n",
    "<img src=\"images/berkeley_img-4-1.jpg\" style=\"width: 700px; height: 300px;\" />\n",
    "\n",
    "*In this notebook, we will apply what we learned about Python and DataFrames to compute the costs, benefits, and return on investment for the Rocket Fuel handbag case study.*\n",
    "\n",
    "### Table of Contents\n",
    "\n",
    "\n",
    "3. <a href='#section 3'>Problem: Rocket Fuel Costs, Benefits, and Efficacy</a>\n",
    "\n",
    "     a. <a href='#subsection 3a'>Conversion Proportions</a>\n",
    "\n",
    "     b. <a href='#subsection 3b'>Benefit</a>\n",
    "\n",
    "     c. <a href='#subsection 3c'>ROI</a>\n",
    "\n",
    "     d. <a href='#subsection 3d'>Opportunity Cost</a>"
   ]
  },
  {
   "cell_type": "markdown",
   "metadata": {},
   "source": [
    "## 1. Problem: Rocket Fuel Costs, Benefits, and Efficacy <a id='section1'></a>\n",
    "\n",
    "Now that we know a bit about Python and DataFrames, we can start analyzing the Rocket Fuel case. \n",
    "\n",
    "As a reminder, here are the details of the Rocket Fuel case as detailed in Notebook 3."
   ]
  },
  {
   "cell_type": "markdown",
   "metadata": {},
   "source": [
    "## Rocket Fuel Ad Campaign <a id='section case'></a>\n",
    "\n",
    "[Rocket Fuel Inc.](https://rocketfuel.com/programmatic-marketing-platform/) (NASDAQ: FUEL), works in digital advertising offering a \"Programmatic Marketing Platform\" that claims to optimize digital marketing through big data and machine learning techniques.\n",
    "\n",
    "In 2015, Rocket Fuel ran a trial ad campaign for handbag manufacturer TaskBella. TaskBella was interested in answering two questions:\n",
    "\n",
    "1. Would the campaign be successful?\n",
    "2. If the campaign was successful, how much of that success could be attributed to the ads?\n",
    "\n",
    "With the second question in mind, they agreed to run an **A/B test**. The majority of the people exposed to Rocket Fuel's content delivery network would see TaskBella's handbag ad (the **experimental group**). But, a small portion of people (the **control group**) would instead see a Public Service Announcement (PSA) in the exact size and place the ad would normally be. One PSA example is below:\n",
    "\n",
    "<img src=\"images/smokey_bear_psa.PNG\" style=\"width: 700px; height: 300px;\" />\n",
    "\n",
    "In this section, we'll explore four questions:\n",
    "\n",
    "> * *Was the campaign effective? Did more users convert as a result of seeing an ad?*\n",
    "> * *How much more money did TaskBella make as a result of running the campaign (ignoring advertising costs)?*\n",
    "> * *Was the campaign profitable (what was the ROI)?*\n",
    "> * *What was the opportunity cost of including a control group? How much more could have TaskaBella made with a smaller control group or not having a control group at all?*"
   ]
  },
  {
   "cell_type": "code",
   "execution_count": 2,
   "metadata": {},
   "outputs": [],
   "source": [
    "# load the necessary software. THIS CELL MUST BE RUN\n",
    "import pandas as pd\n"
   ]
  },
  {
   "cell_type": "code",
   "execution_count": 3,
   "metadata": {},
   "outputs": [
    {
     "data": {
      "text/html": [
       "<div>\n",
       "<style scoped>\n",
       "    .dataframe tbody tr th:only-of-type {\n",
       "        vertical-align: middle;\n",
       "    }\n",
       "\n",
       "    .dataframe tbody tr th {\n",
       "        vertical-align: top;\n",
       "    }\n",
       "\n",
       "    .dataframe thead th {\n",
       "        text-align: right;\n",
       "    }\n",
       "</style>\n",
       "<table border=\"1\" class=\"dataframe\">\n",
       "  <thead>\n",
       "    <tr style=\"text-align: right;\">\n",
       "      <th></th>\n",
       "      <th>test group</th>\n",
       "      <th>converted</th>\n",
       "      <th>total ads</th>\n",
       "      <th>most ads day</th>\n",
       "      <th>most ads hour</th>\n",
       "    </tr>\n",
       "    <tr>\n",
       "      <th>user id</th>\n",
       "      <th></th>\n",
       "      <th></th>\n",
       "      <th></th>\n",
       "      <th></th>\n",
       "      <th></th>\n",
       "    </tr>\n",
       "  </thead>\n",
       "  <tbody>\n",
       "    <tr>\n",
       "      <th>1069124</th>\n",
       "      <td>ad</td>\n",
       "      <td>0</td>\n",
       "      <td>130</td>\n",
       "      <td>1:Mon</td>\n",
       "      <td>20</td>\n",
       "    </tr>\n",
       "    <tr>\n",
       "      <th>1119715</th>\n",
       "      <td>ad</td>\n",
       "      <td>0</td>\n",
       "      <td>93</td>\n",
       "      <td>2:Tues</td>\n",
       "      <td>22</td>\n",
       "    </tr>\n",
       "    <tr>\n",
       "      <th>1144181</th>\n",
       "      <td>ad</td>\n",
       "      <td>0</td>\n",
       "      <td>21</td>\n",
       "      <td>2:Tues</td>\n",
       "      <td>18</td>\n",
       "    </tr>\n",
       "    <tr>\n",
       "      <th>1435133</th>\n",
       "      <td>ad</td>\n",
       "      <td>0</td>\n",
       "      <td>355</td>\n",
       "      <td>2:Tues</td>\n",
       "      <td>10</td>\n",
       "    </tr>\n",
       "    <tr>\n",
       "      <th>1015700</th>\n",
       "      <td>ad</td>\n",
       "      <td>0</td>\n",
       "      <td>276</td>\n",
       "      <td>5:Fri</td>\n",
       "      <td>14</td>\n",
       "    </tr>\n",
       "  </tbody>\n",
       "</table>\n",
       "</div>"
      ],
      "text/plain": [
       "        test group  converted  total ads most ads day  most ads hour\n",
       "user id                                                             \n",
       "1069124         ad          0        130        1:Mon             20\n",
       "1119715         ad          0         93       2:Tues             22\n",
       "1144181         ad          0         21       2:Tues             18\n",
       "1435133         ad          0        355       2:Tues             10\n",
       "1015700         ad          0        276        5:Fri             14"
      ]
     },
     "execution_count": 3,
     "metadata": {},
     "output_type": "execute_result"
    }
   ],
   "source": [
    "# run this cell\n",
    "ads = pd.read_csv('https://raw.githubusercontent.com/ds-modules/exec_ed/master/data/rocketfuel_data_renamed.csv', index_col=0)\n",
    "\n",
    "# display the first ten rows\n",
    "ads.head()"
   ]
  },
  {
   "cell_type": "code",
   "execution_count": 5,
   "metadata": {},
   "outputs": [
    {
     "data": {
      "text/html": [
       "<div>\n",
       "<style scoped>\n",
       "    .dataframe tbody tr th:only-of-type {\n",
       "        vertical-align: middle;\n",
       "    }\n",
       "\n",
       "    .dataframe tbody tr th {\n",
       "        vertical-align: top;\n",
       "    }\n",
       "\n",
       "    .dataframe thead th {\n",
       "        text-align: right;\n",
       "    }\n",
       "</style>\n",
       "<table border=\"1\" class=\"dataframe\">\n",
       "  <thead>\n",
       "    <tr style=\"text-align: right;\">\n",
       "      <th></th>\n",
       "      <th>test group</th>\n",
       "      <th>converted</th>\n",
       "      <th>total ads</th>\n",
       "      <th>most ads day</th>\n",
       "      <th>most ads hour</th>\n",
       "    </tr>\n",
       "    <tr>\n",
       "      <th>user id</th>\n",
       "      <th></th>\n",
       "      <th></th>\n",
       "      <th></th>\n",
       "      <th></th>\n",
       "      <th></th>\n",
       "    </tr>\n",
       "  </thead>\n",
       "  <tbody>\n",
       "    <tr>\n",
       "      <th>900681</th>\n",
       "      <td>psa</td>\n",
       "      <td>0</td>\n",
       "      <td>248</td>\n",
       "      <td>6:Sat</td>\n",
       "      <td>19</td>\n",
       "    </tr>\n",
       "    <tr>\n",
       "      <th>905704</th>\n",
       "      <td>psa</td>\n",
       "      <td>0</td>\n",
       "      <td>27</td>\n",
       "      <td>4:Thurs</td>\n",
       "      <td>8</td>\n",
       "    </tr>\n",
       "    <tr>\n",
       "      <th>904595</th>\n",
       "      <td>psa</td>\n",
       "      <td>0</td>\n",
       "      <td>13</td>\n",
       "      <td>2:Tues</td>\n",
       "      <td>19</td>\n",
       "    </tr>\n",
       "    <tr>\n",
       "      <th>901904</th>\n",
       "      <td>psa</td>\n",
       "      <td>0</td>\n",
       "      <td>32</td>\n",
       "      <td>3:Wed</td>\n",
       "      <td>19</td>\n",
       "    </tr>\n",
       "    <tr>\n",
       "      <th>902234</th>\n",
       "      <td>psa</td>\n",
       "      <td>0</td>\n",
       "      <td>105</td>\n",
       "      <td>2:Tues</td>\n",
       "      <td>19</td>\n",
       "    </tr>\n",
       "  </tbody>\n",
       "</table>\n",
       "</div>"
      ],
      "text/plain": [
       "        test group  converted  total ads most ads day  most ads hour\n",
       "user id                                                             \n",
       "900681         psa          0        248        6:Sat             19\n",
       "905704         psa          0         27      4:Thurs              8\n",
       "904595         psa          0         13       2:Tues             19\n",
       "901904         psa          0         32        3:Wed             19\n",
       "902234         psa          0        105       2:Tues             19"
      ]
     },
     "execution_count": 5,
     "metadata": {},
     "output_type": "execute_result"
    }
   ],
   "source": [
    "control = ads[ads[\"test group\"] == \"psa\"]\n",
    "control.head()"
   ]
  },
  {
   "cell_type": "code",
   "execution_count": 6,
   "metadata": {},
   "outputs": [
    {
     "data": {
      "text/html": [
       "<div>\n",
       "<style scoped>\n",
       "    .dataframe tbody tr th:only-of-type {\n",
       "        vertical-align: middle;\n",
       "    }\n",
       "\n",
       "    .dataframe tbody tr th {\n",
       "        vertical-align: top;\n",
       "    }\n",
       "\n",
       "    .dataframe thead th {\n",
       "        text-align: right;\n",
       "    }\n",
       "</style>\n",
       "<table border=\"1\" class=\"dataframe\">\n",
       "  <thead>\n",
       "    <tr style=\"text-align: right;\">\n",
       "      <th></th>\n",
       "      <th>test group</th>\n",
       "      <th>converted</th>\n",
       "      <th>total ads</th>\n",
       "      <th>most ads day</th>\n",
       "      <th>most ads hour</th>\n",
       "    </tr>\n",
       "    <tr>\n",
       "      <th>user id</th>\n",
       "      <th></th>\n",
       "      <th></th>\n",
       "      <th></th>\n",
       "      <th></th>\n",
       "      <th></th>\n",
       "    </tr>\n",
       "  </thead>\n",
       "  <tbody>\n",
       "    <tr>\n",
       "      <th>1069124</th>\n",
       "      <td>ad</td>\n",
       "      <td>0</td>\n",
       "      <td>130</td>\n",
       "      <td>1:Mon</td>\n",
       "      <td>20</td>\n",
       "    </tr>\n",
       "    <tr>\n",
       "      <th>1119715</th>\n",
       "      <td>ad</td>\n",
       "      <td>0</td>\n",
       "      <td>93</td>\n",
       "      <td>2:Tues</td>\n",
       "      <td>22</td>\n",
       "    </tr>\n",
       "    <tr>\n",
       "      <th>1144181</th>\n",
       "      <td>ad</td>\n",
       "      <td>0</td>\n",
       "      <td>21</td>\n",
       "      <td>2:Tues</td>\n",
       "      <td>18</td>\n",
       "    </tr>\n",
       "    <tr>\n",
       "      <th>1435133</th>\n",
       "      <td>ad</td>\n",
       "      <td>0</td>\n",
       "      <td>355</td>\n",
       "      <td>2:Tues</td>\n",
       "      <td>10</td>\n",
       "    </tr>\n",
       "    <tr>\n",
       "      <th>1015700</th>\n",
       "      <td>ad</td>\n",
       "      <td>0</td>\n",
       "      <td>276</td>\n",
       "      <td>5:Fri</td>\n",
       "      <td>14</td>\n",
       "    </tr>\n",
       "  </tbody>\n",
       "</table>\n",
       "</div>"
      ],
      "text/plain": [
       "        test group  converted  total ads most ads day  most ads hour\n",
       "user id                                                             \n",
       "1069124         ad          0        130        1:Mon             20\n",
       "1119715         ad          0         93       2:Tues             22\n",
       "1144181         ad          0         21       2:Tues             18\n",
       "1435133         ad          0        355       2:Tues             10\n",
       "1015700         ad          0        276        5:Fri             14"
      ]
     },
     "execution_count": 6,
     "metadata": {},
     "output_type": "execute_result"
    }
   ],
   "source": [
    "experiment = ads[ads[\"test group\"] == \"ad\"]\n",
    "experiment.head()"
   ]
  },
  {
   "cell_type": "markdown",
   "metadata": {},
   "source": [
    "### 3a. Did more users convert as a result of the ad campaign? <a id='subsection 3a'></a>\n",
    "\n",
    "We're interested in seeing if the buying behavior of users differed between the control and experimental groups. The two groups are very different in size, so it isn't fair to compare the number of people who converted in each group. Instead, we're going to look at the *proportion* of people in each group who bought a bag.\n",
    "\n",
    "For both groups, the proportion will be calculated as:\n",
    "$$\\frac{\\text{number of people in group who converted}}{\\text{total number of people in group}}$$\n",
    "\n",
    "Let's start with the control group. Getting the number of people in the control group is easy: we can just call `num_rows` on our `control` table from 2b."
   ]
  },
  {
   "cell_type": "code",
   "execution_count": 7,
   "metadata": {},
   "outputs": [
    {
     "data": {
      "text/plain": [
       "(23524, 5)"
      ]
     },
     "execution_count": 7,
     "metadata": {},
     "output_type": "execute_result"
    }
   ],
   "source": [
    "# number of users in control group\n",
    "num_control = control.shape[0]\n",
    "num_control"
   ]
  },
  {
   "cell_type": "markdown",
   "metadata": {},
   "source": [
    "Next, we need a table with only users in the control group who converted. We can get this with a call to `where` on our table of control group users."
   ]
  },
  {
   "cell_type": "code",
   "execution_count": null,
   "metadata": {},
   "outputs": [],
   "source": [
    "# table with only converting control group users\n",
    "ctrl_converts = control[control[\"\"]]\n",
    "ctrl_converts"
   ]
  },
  {
   "cell_type": "markdown",
   "metadata": {},
   "source": [
    "From this new table, we can get the number of converting control group users by again using `num_rows`."
   ]
  },
  {
   "cell_type": "code",
   "execution_count": null,
   "metadata": {},
   "outputs": [],
   "source": [
    "# number of people in the ctrl_converts table\n",
    "num_ctrl_converts = ctrl_converts.num_rows\n",
    "num_ctrl_converts"
   ]
  },
  {
   "cell_type": "markdown",
   "metadata": {},
   "source": [
    "Finally, we can plug the number of control group converts and the total number of control group people into our formula to find the percentage."
   ]
  },
  {
   "cell_type": "code",
   "execution_count": null,
   "metadata": {},
   "outputs": [],
   "source": [
    "# proportion of control group users who converted\n",
    "ctrl_convert_proportion = (num_ctrl_converts / num_control)\n",
    "ctrl_convert_proportion"
   ]
  },
  {
   "cell_type": "markdown",
   "metadata": {},
   "source": [
    "**EXERCISE:** Find the proportion of people in the *experiment* group who converted. You can follow the exact same steps as we did above for the control group; in all steps the code will be identical except for the variable and table names.\n",
    "\n",
    "Step 1: Get the number of people in the experiment group using the `experiment` table and `num_rows`.\n"
   ]
  },
  {
   "cell_type": "code",
   "execution_count": null,
   "metadata": {},
   "outputs": [],
   "source": [
    "# number of people in the experiment (ad) group\n",
    "num_exper = ...\n",
    "num_exper"
   ]
  },
  {
   "cell_type": "markdown",
   "metadata": {},
   "source": [
    "Step 2: Use `where` on the `experiment` table to create a table with only the experiment group users who converted."
   ]
  },
  {
   "cell_type": "code",
   "execution_count": null,
   "metadata": {},
   "outputs": [],
   "source": [
    "# use \"where\" to get only the experiment group users who converted\n",
    "exper_converts = experiment.where(..., ...)\n",
    "exper_converts"
   ]
  },
  {
   "cell_type": "markdown",
   "metadata": {},
   "source": [
    "Step 3: Get the number of converted experiment group users using the table you just created and `num_rows`."
   ]
  },
  {
   "cell_type": "code",
   "execution_count": null,
   "metadata": {},
   "outputs": [],
   "source": [
    "# count the number of converting experimental group members\n",
    "num_exper_converts = ...\n",
    "num_exper_converts"
   ]
  },
  {
   "cell_type": "markdown",
   "metadata": {},
   "source": [
    "Step 4: Plug the values from step 1 and step 3 into the formula to calculate the proportion.\n",
    "\n",
    "$$\\frac{\\text{number of people in group who converted}}{\\text{total number of people in group}}$$\n",
    "\n",
    "Hint: you don't have to type any numbers here; you can just use the names of the two variables you just created."
   ]
  },
  {
   "cell_type": "code",
   "execution_count": null,
   "metadata": {},
   "outputs": [],
   "source": [
    "# the proportion of people in the experimental group that converted\n",
    "exper_convert_proportion = ...\n",
    "exper_convert_proportion"
   ]
  },
  {
   "cell_type": "markdown",
   "metadata": {},
   "source": [
    "The next cell will print the values you calculated as percents of the control and experiment groups that converted, rounded to two decimal places. "
   ]
  },
  {
   "cell_type": "code",
   "execution_count": null,
   "metadata": {},
   "outputs": [],
   "source": [
    "print(\"Control Group: {} % converted\".format(round(ctrl_convert_proportion * 100, 2))) \n",
    "print(\"Experiment Group: {} % converted\".format(round(exper_convert_proportion * 100, 2)))"
   ]
  },
  {
   "cell_type": "markdown",
   "metadata": {},
   "source": [
    "**QUESTION:** Was the campaign effective? Was a user who saw the ad more likely to buy a bag than a user who didn't see the ad?"
   ]
  },
  {
   "cell_type": "markdown",
   "metadata": {},
   "source": [
    "**ANSWER:** "
   ]
  },
  {
   "cell_type": "markdown",
   "metadata": {},
   "source": [
    "### 3b. How much more money did TaskBella make as a result of running the campaign (ignoring advertising costs)? <a id='subsection 3b'></a>\n",
    "\n",
    "Here we're looking for the benefit of the campaign: the expected financial impact from the conversions resulting from the ads (excluding all advertising costs).\n",
    "\n",
    "The formula for the benefit is as follows:\n",
    "\n",
    "$$ (\\text{value of a converted user}) * (\\text{number of users in the experiment group}) * (\\text{proportion of converting experiment group users} - \\text{proportion of converting control group users}) $$\n",
    "\n",
    "That is, we are looking for the number of people in the experiment group who bought a handbag and *wouldn't have bought one if they'd been in the control group*- the people whose conversion was the result of the ad campaign, This is why we subtract the control group conversion percentage from the experiment group conversion percentage.\n",
    "\n",
    "We already have most of the parts of this formula- we just need to assemble them.\n",
    "\n",
    "First, TaskBella estimates the value of a converted user to be $\\$40$. In the following cell, assign `40` to the name `convert_val`."
   ]
  },
  {
   "cell_type": "code",
   "execution_count": null,
   "metadata": {},
   "outputs": [],
   "source": [
    "# dollar value of converted user\n",
    "convert_val = ..."
   ]
  },
  {
   "cell_type": "markdown",
   "metadata": {},
   "source": [
    "Next, let's get the difference in conversion proportions for the experiment and control groups: \n",
    "\n",
    "$$\\text{proportion of converting experiment group users} - \\text{proportion of converting control group users}$$\n",
    "\n",
    "You can do this easily by using the variables you just calculated: `exper_convert_proportion` and `ctrl_convert_proportion`."
   ]
  },
  {
   "cell_type": "code",
   "execution_count": null,
   "metadata": {},
   "outputs": [],
   "source": [
    "# the difference between the experiment conversion proportion and the control conversion proportion\n",
    "proportion_diff = ...\n",
    "proportion_diff"
   ]
  },
  {
   "cell_type": "markdown",
   "metadata": {},
   "source": [
    "Lastly, plug all the appropriate values into the benefit formula to get the benefit.\n",
    "\n",
    "Hint: the number of users in the experiment group is saved as `num_exper`."
   ]
  },
  {
   "cell_type": "code",
   "execution_count": null,
   "metadata": {},
   "outputs": [],
   "source": [
    "benefit = ...\n",
    "benefit"
   ]
  },
  {
   "cell_type": "markdown",
   "metadata": {},
   "source": [
    "### 3c. What was the Return on Investment (ROI)? <a id='subsection 3c'></a>\n",
    "\n",
    "In 3a and 3b we saw that advertising resulted in a higher percentage of converting users and a positive benefit. But, would using the campaign still increase profits when advertising costs are accounted for?\n",
    "\n",
    "Recall that back in part 1b we calculated the advertising costs and named them `cost`."
   ]
  },
  {
   "cell_type": "code",
   "execution_count": null,
   "metadata": {},
   "outputs": [],
   "source": [
    "# the cost of the campaign\n",
    "cost"
   ]
  },
  {
   "cell_type": "markdown",
   "metadata": {},
   "source": [
    "**EXERCISE:** Calculate the ROI as \n",
    "\n",
    "$$\\frac{\\text{benefit} - \\text{cost}}{\\text{cost}}$$"
   ]
  },
  {
   "cell_type": "code",
   "execution_count": null,
   "metadata": {},
   "outputs": [],
   "source": [
    "# calculate the ROI\n",
    "# remember to mind your order of operations\n",
    "roi = ...\n",
    "roi"
   ]
  },
  {
   "cell_type": "markdown",
   "metadata": {},
   "source": [
    "### 3d. What was the opportunity cost of including a control group? <a id='subsection 3d'></a>\n",
    "\n",
    "As we saw in 3b, having a control group is important to get a baseline with which to compare the experimental data. However, any users assigned to the control group are not seeing TaskBella's advertising, eating into profits.\n",
    "\n",
    "We can calculate the *opportunity cost* of the control group as:\n",
    "\n",
    "$$(\\text{value of converted user}) * (\\text{number of users in control group}) * (\\text{proportion of experiment group users who converted} - \\text{proportion of control group users who converted})$$\n",
    "\n",
    "In other words, the opportunity cost is the additional amount of money users in the control group would have spent if they had seen the ads *purely as a result of seeing the ads*. Note that this is almost the same formula as for the benefit in 3b, except with the control group instead of the experiment group.\n",
    "\n",
    "**EXERCISE:** Use `convert_val`, `num_control`, and `proportion_diff` to calculate the opportunity cost."
   ]
  },
  {
   "cell_type": "code",
   "execution_count": null,
   "metadata": {},
   "outputs": [],
   "source": [
    "opp_cost = ...\n",
    "opp_cost"
   ]
  },
  {
   "cell_type": "markdown",
   "metadata": {},
   "source": [
    "**QUESTION:** Was the ad campaign profitable when all the costs are accounted for? Why or why not?"
   ]
  },
  {
   "cell_type": "markdown",
   "metadata": {},
   "source": [
    "**ANSWER:**"
   ]
  },
  {
   "cell_type": "markdown",
   "metadata": {},
   "source": [
    "#### References\n",
    "\n",
    "- Sections of \"Intro to Jupyter\", \"Table Transformation\" adapted from materials by Kelly Chen and Ashley Chien in [UC Berkeley Data Science Modules core resources](http://github.com/ds-modules/core-resources)\n",
    "- \"A Note on Errors\" subsection and \"error\" image adapted from materials by Chris Hench and Mariah Rogers for the Medieval Studies 250: Text Analysis for Graduate Medievalists [data science module](https://github.com/ds-modules/MEDST-250).\n",
    "- Rocket Fuel data and discussion questions adapted from materials by Zsolt Katona and Brian Bell, BerkeleyHaas Case Series"
   ]
  },
  {
   "cell_type": "markdown",
   "metadata": {},
   "source": [
    "Author: Keeley Takimoto"
   ]
  }
 ],
 "metadata": {
  "kernelspec": {
   "display_name": "Python 3",
   "language": "python",
   "name": "python3"
  },
  "language_info": {
   "codemirror_mode": {
    "name": "ipython",
    "version": 3
   },
   "file_extension": ".py",
   "mimetype": "text/x-python",
   "name": "python",
   "nbconvert_exporter": "python",
   "pygments_lexer": "ipython3",
   "version": "3.6.4"
  }
 },
 "nbformat": 4,
 "nbformat_minor": 2
}
