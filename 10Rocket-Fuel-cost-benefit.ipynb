{
    "cells": [
        {
            "cell_type": "markdown",
            "metadata": {},
            "source": [
                "# Data Science: Bridging Principles and Practice\n",
                "## Part 10: Rocket Fuel Costs, Benefits, and Efficacy\n",
                "\n",
                "<img src=\"images\/berkeley_img-4-1.jpg\" style=\"width: 700px; height: 300px;\" \/>\n",
                "\n",
                "*In this notebook, we will apply what we learned about Python and DataFrames to compute the costs, benefits, and return on investment for the Rocket Fuel handbag case study.*\n",
                "\n",
                "### Table of Contents\n",
                "\n",
                "\n",
                "<ol start=10><li><a href='#section10'>Problem: Rocket Fuel Costs, Benefits, and Efficacy<\/a><\/li>\n",
                "    <ol>\n",
                "     <li><a href='#section10a'>Conversion Proportions<\/a><\/li>\n",
                "     <li><a href='#section10b'>Benefit<\/a><\/li>\n",
                "     <li><a href='#section10c'>ROI<\/a><\/li>\n",
                "     <li><a href='#section10d'>Opportunity Cost<\/a><\/li>\n",
                "     <\/ol>\n",
                "    <\/ol>"
            ]
        },
        {
            "cell_type": "code",
            "execution_count": null,
            "metadata": {
                "collapsed": true
            },
            "outputs": [],
            "source": [
                "# load the necessary software. THIS CELL MUST BE RUN\n",
                "import pandas as pd\n",
                "from gofer.ok import check\n",
                "%matplotlib inline"
            ]
        },
        {
            "cell_type": "markdown",
            "metadata": {},
            "source": [
                "## Rocket Fuel Ad Campaign <a id='section case'><\/a>\n",
                "### (Review from notebooks 03, 04, and 05)\n",
                "\n",
                "[Rocket Fuel Inc.](https:\/\/rocketfuel.com\/programmatic-marketing-platform\/) (NASDAQ: FUEL), works in digital advertising offering a \"Programmatic Marketing Platform\" that claims to optimize digital marketing through big data and machine learning techniques.\n",
                "\n",
                "In 2015, Rocket Fuel ran a trial ad campaign for handbag manufacturer TaskBella. TaskBella was interested in answering two questions:\n",
                "\n",
                "1. Would the campaign be successful?\n",
                "2. If the campaign was successful, how much of that success could be attributed to the ads?\n",
                "\n",
                "With the second question in mind, they agreed to run an **A\/B test**. The majority of the people exposed to Rocket Fuel's content delivery network would see TaskBella's handbag ad (the **experimental group**). But, a small portion of people (the **control group**) would instead see a Public Service Announcement (PSA) in the exact size and place the ad would normally be. One PSA example is below:\n",
                "\n",
                "<img src=\"images\/smokey_bear_psa.PNG\" style=\"width: 700px; height: 300px;\" \/>\n"
            ]
        },
        {
            "cell_type": "markdown",
            "metadata": {},
            "source": [
                "## 10. Problem: Rocket Fuel Costs, Benefits, and Efficacy <a id='section10'><\/a>\n",
                "\n",
                "Earlier in the course we explored the Rocket Fuel study in terms of grouping and visualizing the data. Now, we want to see whether or not the campaign worked.\n",
                "\n",
                "In this section, we'll explore four questions:\n",
                "\n",
                "> * *Was the campaign effective? Did more users convert as a result of seeing an ad?*\n",
                "> * *How much more money did TaskBella make as a result of running the campaign (ignoring advertising costs)?*\n",
                "> * *Was the campaign profitable (what was the ROI)?*\n",
                "> * *What was the opportunity cost of including a control group? How much more could have TaskaBella made with a smaller control group or not having a control group at all?*\n",
                "\n",
                "Run the next cell to load the data. Then, run the cell after it to split the data into two smaller DataFrames: one that only has subjects in the control (\"psa\") group, and another that only has subject in the test (\"ad\") group."
            ]
        },
        {
            "cell_type": "code",
            "execution_count": null,
            "metadata": {
                "collapsed": true
            },
            "outputs": [],
            "source": [
                "# run this cell to load the data\n",
                "ads = pd.read_csv('data\/rocketfuel_data_renamed.csv', index_col=0)\n",
                "\n",
                "# show the first five rows of the ads data\n",
                "ads.head()"
            ]
        },
        {
            "cell_type": "code",
            "execution_count": null,
            "metadata": {
                "collapsed": true
            },
            "outputs": [],
            "source": [
                "# create a DataFrame with only users in the control (PSA) group\n",
                "control = ads[ads[\"test group\"] == \"psa\"]\n",
                "\n",
                "# create a DataFrame with only users in the experimental (ad) group\n",
                "experiment = ads[ads[\"test group\"] == \"ad\"]\n",
                "experiment.head()"
            ]
        },
        {
            "cell_type": "markdown",
            "metadata": {},
            "source": [
                "### 10a. Did more users convert as a result of the ad campaign? <a id='section10a'><\/a>\n",
                "\n",
                "We're interested in seeing if the buying behavior of users differed between the control and experimental groups. The two groups are very different in size, so it isn't fair to compare the number of people who converted in each group. Instead, we're going to look at the *proportion* of people in each group who bought a bag.\n",
                "\n",
                "For both groups, the proportion will be calculated as:\n",
                "$$\\frac{\\text{number of people in group who converted}}{\\text{total number of people in group}}$$\n",
                "\n",
                "Let's start with the control group. To get the number of people in the control group, we can use the `shape` attribute to get the shape of the DataFrame."
            ]
        },
        {
            "cell_type": "code",
            "execution_count": null,
            "metadata": {
                "collapsed": true
            },
            "outputs": [],
            "source": [
                "control.shape"
            ]
        },
        {
            "cell_type": "markdown",
            "metadata": {},
            "source": [
                "The `shape` attribute returns two values: the number of rows followed by the number of columns. We only want the number of rows (the first value), so we'll use indexing to get it. Remember that in Python indexing starts at 0."
            ]
        },
        {
            "cell_type": "code",
            "execution_count": null,
            "metadata": {
                "collapsed": true
            },
            "outputs": [],
            "source": [
                "# number of users in control group\n",
                "num_control = control.shape[0]\n",
                "num_control"
            ]
        },
        {
            "cell_type": "markdown",
            "metadata": {},
            "source": [
                "Next, we need a table with only users in the control group who converted. We can get this using Boolean indexing. Our condition inside the square brackets (i.e. how we want to select the rows) is that we want rows where the \"converted\" feature is `True`."
            ]
        },
        {
            "cell_type": "code",
            "execution_count": null,
            "metadata": {
                "collapsed": true
            },
            "outputs": [],
            "source": [
                "# table with only converting control group users\n",
                "ctrl_converts = control[control[\"converted\"] == True]\n",
                "ctrl_converts.head()"
            ]
        },
        {
            "cell_type": "markdown",
            "metadata": {},
            "source": [
                "From this new table, we can get the number of converting control group users by again using `shape`."
            ]
        },
        {
            "cell_type": "code",
            "execution_count": null,
            "metadata": {
                "collapsed": true
            },
            "outputs": [],
            "source": [
                "# number of people in the ctrl_converts table\n",
                "num_ctrl_converts = ctrl_converts.shape[0]\n",
                "num_ctrl_converts"
            ]
        },
        {
            "cell_type": "markdown",
            "metadata": {},
            "source": [
                "Finally, we can plug the number of control group converts and the total number of control group people into our formula to find the percentage."
            ]
        },
        {
            "cell_type": "code",
            "execution_count": null,
            "metadata": {
                "collapsed": true
            },
            "outputs": [],
            "source": [
                "# proportion of control group users who converted\n",
                "ctrl_convert_proportion = (num_ctrl_converts \/ num_control)\n",
                "ctrl_convert_proportion"
            ]
        },
        {
            "cell_type": "markdown",
            "metadata": {},
            "source": [
                "<div class=\"alert alert-warning\"><p><b>EXERCISE:<\/b> Find the proportion of people in the <b>experiment<\/b> group who converted. You can follow the exact same steps as we did above for the control group; in all steps the code will be identical except for the variable and table names.<\/p>\n",
                "\n",
                "<p>Step 1: Get the number of people in the experiment group using the <code>experiment<\/code> table, the <code>shape<\/code> attribute, and indexing.<\/p>\n",
                "<\/div>"
            ]
        },
        {
            "cell_type": "code",
            "execution_count": null,
            "metadata": {
                "collapsed": true
            },
            "outputs": [],
            "source": [
                "# number of people in the experiment (ad) group\n",
                "num_exper = ...\n",
                "num_exper"
            ]
        },
        {
            "cell_type": "markdown",
            "metadata": {},
            "source": [
                "<div class=\"alert alert-warning\"><p>Step 2: Fill in the ellipses with the correct condition to select <b>users in the experiment group who converted<\/b>.<\/p>\n",
                "<p> Hint: if you're stuck, look at how we did it for the control group. It's the same task, so the code will look very similar, but all references to the <code>control<\/code> DataFrame will be replaced by the <code>experiment<\/code> DataFrame.<\/p>\n",
                "<\/div>"
            ]
        },
        {
            "cell_type": "code",
            "execution_count": null,
            "metadata": {
                "collapsed": true
            },
            "outputs": [],
            "source": [
                "# get only the experiment group users who converted\n",
                "exper_converts = experiment[...]\n",
                "exper_converts.head()"
            ]
        },
        {
            "cell_type": "markdown",
            "metadata": {},
            "source": [
                "<div class=\"alert alert-warning\">Step 3: Get the number of converted experiment group users using the table you just created, the <code>shape<\/code> attribute, and indexing.<\/div>"
            ]
        },
        {
            "cell_type": "code",
            "execution_count": null,
            "metadata": {
                "collapsed": true
            },
            "outputs": [],
            "source": [
                "# count the number of converting experimental group members\n",
                "num_exper_converts = ...\n",
                "num_exper_converts"
            ]
        },
        {
            "cell_type": "markdown",
            "metadata": {},
            "source": [
                "<div class=\"alert alert-warning\"><p>Step 4: Plug the values from step 1 and step 3 into the formula to calculate the proportion.<\/p>\n",
                "<br>\n",
                "$$\\frac{\\text{number of people in group who converted}}{\\text{total number of people in group}}$$\n",
                "<br>\n",
                "<p>Hint: you don't have to type any numbers here; use the names of the two variables you just created.<\/p><\/div>"
            ]
        },
        {
            "cell_type": "code",
            "execution_count": null,
            "metadata": {
                "collapsed": true
            },
            "outputs": [],
            "source": [
                "# the proportion of people in the experimental group that converted\n",
                "exper_convert_proportion = ...\n",
                "exper_convert_proportion"
            ]
        },
        {
            "cell_type": "code",
            "execution_count": null,
            "metadata": {
                "collapsed": true
            },
            "outputs": [],
            "source": [
                "# run this cell to check your answer for common errors\n",
                "check(\"tests\/exper-convert.ok\")"
            ]
        },
        {
            "cell_type": "markdown",
            "metadata": {},
            "source": [
                "The next cell will print the values you calculated as percents of the control and experiment groups that converted, rounded to two decimal places. "
            ]
        },
        {
            "cell_type": "code",
            "execution_count": null,
            "metadata": {
                "collapsed": true
            },
            "outputs": [],
            "source": [
                "print(\"Control Group: {} % converted\".format(round(ctrl_convert_proportion * 100, 2))) \n",
                "print(\"Experiment Group: {} % converted\".format(round(exper_convert_proportion * 100, 2)))"
            ]
        },
        {
            "cell_type": "markdown",
            "metadata": {},
            "source": [
                "<div class=\"alert alert-warning\"><b>QUESTION:<\/b> Was the campaign effective? Was a user who saw the ad more likely to buy a bag than a user who didn't see the ad?<\/div>"
            ]
        },
        {
            "cell_type": "markdown",
            "metadata": {},
            "source": [
                "**ANSWER:**  *Fill in your answer here*"
            ]
        },
        {
            "cell_type": "markdown",
            "metadata": {},
            "source": [
                "### 10b. How much more money did TaskBella make as a result of running the campaign (ignoring advertising costs)? <a id='section10b'><\/a>\n",
                "\n",
                "Here we're looking for the benefit of the campaign: the expected financial impact from the conversions resulting from the ads (excluding all advertising costs).\n",
                "\n",
                "The formula for the benefit is as follows:\n",
                "\n",
                "$$ (\\text{value of a converted user}) * (\\text{number of users in the experiment group}) * (\\text{proportion of converting experiment group users} - \\text{proportion of converting control group users}) $$\n",
                "\n",
                "That is, we are looking for the number of people in the experiment group who bought a handbag and *wouldn't have bought one if they'd been in the control group*- the people whose conversion was the result of the ad campaign, This is why we subtract the control group conversion percentage from the experiment group conversion percentage.\n",
                "\n",
                "We already have most of the parts of this formula- we just need to assemble them."
            ]
        },
        {
            "cell_type": "markdown",
            "metadata": {},
            "source": [
                "<div class=\"alert alert-warning\"><b> EXERCISE:<\/b>TaskBella estimates the value of a converted user to be $\\$40$. In the following cell, assign <code>40<\/code> to the name <code>convert_val<\/code>.\n",
                "<\/div>"
            ]
        },
        {
            "cell_type": "code",
            "execution_count": null,
            "metadata": {
                "collapsed": true
            },
            "outputs": [],
            "source": [
                "# dollar value of converted user\n",
                "convert_val = ..."
            ]
        },
        {
            "cell_type": "markdown",
            "metadata": {},
            "source": [
                "<div class=\"alert alert-warning\">Next, let's get the difference in conversion proportions for the experiment and control groups: <br>\n",
                "<br>\n",
                "$$\\text{proportion of converting experiment group users} - \\text{proportion of converting control group users}$$\n",
                "<br>\n",
                "You can do this easily by using the variables you just calculated: <code>exper_convert_proportion<\/code> and <code>ctrl_convert_proportion<\/code>.<\/div>"
            ]
        },
        {
            "cell_type": "code",
            "execution_count": null,
            "metadata": {
                "collapsed": true
            },
            "outputs": [],
            "source": [
                "# the difference between the experiment conversion proportion and the control conversion proportion\n",
                "proportion_diff = ...\n",
                "proportion_diff"
            ]
        },
        {
            "cell_type": "markdown",
            "metadata": {},
            "source": [
                "<div class=\"alert alert-warning\"><p>Lastly, plug all the appropriate values into the benefit formula to get the benefit.<\/p>\n",
                "<br>\n",
                "$$ (\\text{value of a converted user}) * (\\text{number of users in the experiment group}) * (\\text{proportion of converting experiment group users} - \\text{proportion of converting control group users}) $$\n",
                "<br>\n",
                "    <p>Hint: the number of users in the experiment group is saved as <code>num_exper<\/code>.<\/p>"
            ]
        },
        {
            "cell_type": "code",
            "execution_count": null,
            "metadata": {
                "collapsed": true
            },
            "outputs": [],
            "source": [
                "benefit = ...\n",
                "benefit"
            ]
        },
        {
            "cell_type": "code",
            "execution_count": null,
            "metadata": {
                "collapsed": true
            },
            "outputs": [],
            "source": [
                "# run this cell to check your answer for some common errors\n",
                "check(\"tests\/benefit.ok\")"
            ]
        },
        {
            "cell_type": "markdown",
            "metadata": {},
            "source": [
                "### 10c. What was the Return on Investment (ROI)? <a id='section10c'><\/a>\n",
                "\n",
                "In parts 10a and 10b we saw that advertising resulted in a higher percentage of converting users and a positive benefit. But, would using the campaign still increase profits when advertising costs are accounted for?\n",
                "\n",
                "Recall that back in Notebook 02 we calculated the advertising costs and named them `cost`. Run the next cell to re-define that variable with the cost we calculated."
            ]
        },
        {
            "cell_type": "code",
            "execution_count": null,
            "metadata": {
                "collapsed": true
            },
            "outputs": [],
            "source": [
                "# the cost of the campaign\n",
                "cost = 131374.64"
            ]
        },
        {
            "cell_type": "markdown",
            "metadata": {},
            "source": [
                "<div class=\"alert alert-warning\"><b>EXERCISE:<\/b> Calculate the ROI as \n",
                "\n",
                "$$\\frac{\\text{benefit} - \\text{cost}}{\\text{cost}}$$\n",
                "<\/div>"
            ]
        },
        {
            "cell_type": "code",
            "execution_count": null,
            "metadata": {
                "collapsed": true
            },
            "outputs": [],
            "source": [
                "# calculate the ROI\n",
                "# remember to mind your order of operations\n",
                "roi = ...\n",
                "roi"
            ]
        },
        {
            "cell_type": "code",
            "execution_count": null,
            "metadata": {
                "collapsed": true
            },
            "outputs": [],
            "source": [
                "# run this cell to check your answer for some common errors\n",
                "check(\"tests\/roi.ok\")"
            ]
        },
        {
            "cell_type": "markdown",
            "metadata": {},
            "source": [
                "### 10d. What was the opportunity cost of including a control group? <a id='section10d'><\/a>\n",
                "\n",
                "As we saw in 10b, having a control group is important to get a baseline with which to compare the experimental data. However, any users assigned to the control group are not seeing TaskBella's advertising, eating into profits.\n",
                "\n",
                "We can calculate the *opportunity cost* of the control group as:\n",
                "\n",
                "$$(\\text{value of converted user}) * (\\text{number of users in control group}) * (\\text{proportion of experiment group users who converted} - \\text{proportion of control group users who converted})$$\n",
                "\n",
                "In other words, the opportunity cost is the additional amount of money users in the control group would have spent if they had seen the ads *purely as a result of seeing the ads*. Note that this is almost the same formula as for the benefit in 10b, except with the control group instead of the experiment group.\n",
                "\n"
            ]
        },
        {
            "cell_type": "markdown",
            "metadata": {},
            "source": [
                "<div class=\"alert alert-warning\"><b>EXERCISE:<\/b> Use <code>convert_val<\/code>, <code>num_control<\/code>, and <code>proportion_diff<\/code> to calculate the opportunity cost.<\/div>"
            ]
        },
        {
            "cell_type": "code",
            "execution_count": null,
            "metadata": {
                "collapsed": true
            },
            "outputs": [],
            "source": [
                "# calculate the opportunity cost\n",
                "opp_cost = ...\n",
                "opp_cost"
            ]
        },
        {
            "cell_type": "code",
            "execution_count": null,
            "metadata": {
                "collapsed": true
            },
            "outputs": [],
            "source": [
                "# run this cell to check your answer for some common errors\n",
                "check(\"tests\/opp-cost.ok\")"
            ]
        },
        {
            "cell_type": "markdown",
            "metadata": {},
            "source": [
                "<div class=\"alert alert-warning\"><b>QUESTION:<\/b> Was the ad campaign profitable when all the costs are accounted for? Why or why not?<\/div>"
            ]
        },
        {
            "cell_type": "markdown",
            "metadata": {},
            "source": [
                "**ANSWER:** *Fill in your answer here*"
            ]
        },
        {
            "cell_type": "markdown",
            "metadata": {},
            "source": [
                "#### References\n",
                "\n",
                "- Rocket Fuel data and discussion questions adapted from materials by Zsolt Katona and Brian Bell, BerkeleyHaas Case Series"
            ]
        },
        {
            "cell_type": "markdown",
            "metadata": {},
            "source": [
                "Author: Keeley Takimoto"
            ]
        }
    ],
    "metadata": {
        "kernelspec": {
            "display_name": "Python 3 [3.6]",
            "language": "python",
            "name": "python3"
        },
        "language_info": {
            "codemirror_mode": {
                "name": "ipython",
                "version": 3
            },
            "file_extension": ".py",
            "mimetype": "text\/x-python",
            "name": "python",
            "nbconvert_exporter": "python",
            "pygments_lexer": "ipython3",
            "version": "3.6.4"
        }
    },
    "nbformat": 4,
    "nbformat_minor": 2
}