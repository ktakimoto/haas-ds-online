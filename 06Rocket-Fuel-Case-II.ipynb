{
 "cells": [
  {
   "cell_type": "markdown",
   "metadata": {},
   "source": [
    "# Data Science Online\n",
    "## Part 7: Rocket Fuel and Consumer Response\n",
    "\n",
    "<img src=\"images/ab_test.PNG\" style=\"width: 900px; height: 250px;\" />\n",
    "\n",
    "*In this notebook, we will further explore the Rocket Fuel case study by examining how consumer response differs by time of day, day of week, and how many ads they saw.*\n",
    "\n",
    "### Table of Contents\n",
    "\n",
    "\n",
    "2 - [Application: Rocket Fuel by Day and Time](#section2)<br>\n",
    "\n",
    "&nbsp;&nbsp;&nbsp;&nbsp;&nbsp;&nbsp; a - [Example: Consumer Response vs. Day of Week ](#subsection2a)\n",
    "\n",
    "&nbsp;&nbsp;&nbsp;&nbsp;&nbsp;&nbsp; b - [Exercise: Consumer Response vs. Hour of Day](#subsection2b)\n",
    "\n",
    "3 - [Application: Rocket Fuel by Total Ads](#section3)<br>\n",
    "\n",
    "&nbsp;&nbsp;&nbsp;&nbsp;&nbsp;&nbsp; a - [Histograms](#subsection3a)\n",
    "\n",
    "&nbsp;&nbsp;&nbsp;&nbsp;&nbsp;&nbsp; b - [Consumer Response vs. Total Ads Seen](#subsection3b)\n"
   ]
  },
  {
   "cell_type": "code",
   "execution_count": 1,
   "metadata": {},
   "outputs": [],
   "source": [
    "# dependencies\n",
    "from datascience import *\n",
    "import numpy as np\n",
    "%matplotlib inline\n",
    "from scripts.exec_ed_scripts import *\n",
    "import seaborn as sns\n",
    "\n",
    "# make the plots bigger\n",
    "sns.set(rc={'figure.figsize':(11.7,8.27)})"
   ]
  },
  {
   "cell_type": "markdown",
   "metadata": {},
   "source": [
    "# 2. Application: Rocket  Fuel by Day and Time <a id=\"section2\"></a>\n",
    "\n",
    "### 2a. Example: Consumer Response vs. Day of Week <a id=\"subsection2a\"></a>\n",
    "\n",
    "Let's answer the question of how *conversions* changed on  *different days of the week* for the *different test groups*. \n",
    "\n",
    "Remember, our `ads` data looks like this:"
   ]
  },
  {
   "cell_type": "code",
   "execution_count": 2,
   "metadata": {},
   "outputs": [
    {
     "data": {
      "text/html": [
       "<div>\n",
       "<style scoped>\n",
       "    .dataframe tbody tr th:only-of-type {\n",
       "        vertical-align: middle;\n",
       "    }\n",
       "\n",
       "    .dataframe tbody tr th {\n",
       "        vertical-align: top;\n",
       "    }\n",
       "\n",
       "    .dataframe thead th {\n",
       "        text-align: right;\n",
       "    }\n",
       "</style>\n",
       "<table border=\"1\" class=\"dataframe\">\n",
       "  <thead>\n",
       "    <tr style=\"text-align: right;\">\n",
       "      <th></th>\n",
       "      <th>test group</th>\n",
       "      <th>converted</th>\n",
       "      <th>total ads</th>\n",
       "      <th>most ads day</th>\n",
       "      <th>most ads hour</th>\n",
       "    </tr>\n",
       "    <tr>\n",
       "      <th>user id</th>\n",
       "      <th></th>\n",
       "      <th></th>\n",
       "      <th></th>\n",
       "      <th></th>\n",
       "      <th></th>\n",
       "    </tr>\n",
       "  </thead>\n",
       "  <tbody>\n",
       "    <tr>\n",
       "      <th>1069124</th>\n",
       "      <td>ad</td>\n",
       "      <td>0</td>\n",
       "      <td>130</td>\n",
       "      <td>1:Mon</td>\n",
       "      <td>20</td>\n",
       "    </tr>\n",
       "    <tr>\n",
       "      <th>1119715</th>\n",
       "      <td>ad</td>\n",
       "      <td>0</td>\n",
       "      <td>93</td>\n",
       "      <td>2:Tues</td>\n",
       "      <td>22</td>\n",
       "    </tr>\n",
       "    <tr>\n",
       "      <th>1144181</th>\n",
       "      <td>ad</td>\n",
       "      <td>0</td>\n",
       "      <td>21</td>\n",
       "      <td>2:Tues</td>\n",
       "      <td>18</td>\n",
       "    </tr>\n",
       "    <tr>\n",
       "      <th>1435133</th>\n",
       "      <td>ad</td>\n",
       "      <td>0</td>\n",
       "      <td>355</td>\n",
       "      <td>2:Tues</td>\n",
       "      <td>10</td>\n",
       "    </tr>\n",
       "    <tr>\n",
       "      <th>1015700</th>\n",
       "      <td>ad</td>\n",
       "      <td>0</td>\n",
       "      <td>276</td>\n",
       "      <td>5:Fri</td>\n",
       "      <td>14</td>\n",
       "    </tr>\n",
       "  </tbody>\n",
       "</table>\n",
       "</div>"
      ],
      "text/plain": [
       "        test group  converted  total ads most ads day  most ads hour\n",
       "user id                                                             \n",
       "1069124         ad          0        130        1:Mon             20\n",
       "1119715         ad          0         93       2:Tues             22\n",
       "1144181         ad          0         21       2:Tues             18\n",
       "1435133         ad          0        355       2:Tues             10\n",
       "1015700         ad          0        276        5:Fri             14"
      ]
     },
     "execution_count": 2,
     "metadata": {},
     "output_type": "execute_result"
    }
   ],
   "source": [
    "# load the rocket fuel data\n",
    "ads = pd.read_csv('https://raw.githubusercontent.com/ds-modules/exec_ed/master/data/rocketfuel_data_renamed.csv', index_col=0)\n",
    "\n",
    "# display the first ten rows\n",
    "ads.head()"
   ]
  },
  {
   "cell_type": "markdown",
   "metadata": {},
   "source": [
    "#### Conversion Rate vs. Day of Week\n",
    "Let's start with a slightly simpler problem: comparing the *average rate of conversion* for different days of the week (regardless of test group). \n",
    "\n",
    "First, we select the columns we need."
   ]
  },
  {
   "cell_type": "markdown",
   "metadata": {},
   "source": [
    "Then, we group by day. For our collection function, we want to calculate the conversion rate. Because the conversion rate is just the number of people who converted divided by the total number of people, and because `\"converted\"` is equal to 1 only when a person converted, we can get the conversion rate by taking the average of `\"converted\"`."
   ]
  },
  {
   "cell_type": "code",
   "execution_count": null,
   "metadata": {},
   "outputs": [],
   "source": [
    "day_rates = ads.groupby(\"most ads day\",as_index=False).mean()\n",
    "day_rates"
   ]
  },
  {
   "cell_type": "markdown",
   "metadata": {},
   "source": [
    "Finally, we can look at the values in a bar graph."
   ]
  },
  {
   "cell_type": "code",
   "execution_count": null,
   "metadata": {},
   "outputs": [],
   "source": [
    "sns.barplot(x=\"most ads day\", y=\"converted\", data=day_rates);"
   ]
  },
  {
   "cell_type": "markdown",
   "metadata": {},
   "source": [
    "#### Conversion Rate vs Day of Week and Test Group\n",
    "\n",
    "Now, we want to return to our original question: how does conversion rate differ between different days of the week for the two different test groups? \n",
    "\n",
    "To answer our question, we only need to know three pieces of information: which test group a user was in, the day on which they saw the most ads, and whether or note they converted. We'll use a table transformation function to select only the three columns we need."
   ]
  },
  {
   "cell_type": "markdown",
   "metadata": {},
   "source": [
    "Next, we'll need to apply `pivot` so we can have one set of categories as the rows and the other set of categories as the columns. Our call to `pivot` can be broken down like this:\n",
    "\n",
    "1. The first two arguments give the two sets of categories: \"test group\" and \"most ads day\"\n",
    "2. The values will be calculated from \"converted\"\n",
    "3. Our collection function will be `np.average` to calculate the rate at which each day-test group pair converted."
   ]
  },
  {
   "cell_type": "code",
   "execution_count": null,
   "metadata": {},
   "outputs": [],
   "source": [
    "sns.barplot(x=\"most ads day\", y=\"converted\", hue=\"test group\", data=ads)"
   ]
  },
  {
   "cell_type": "markdown",
   "metadata": {},
   "source": [
    "Then, we can visualize our findings in a bar plot. The `barh` function gets `most ads day` as the argument since that's the one column in our table that still contains categorical data."
   ]
  },
  {
   "cell_type": "markdown",
   "metadata": {},
   "source": [
    "<div class=\"alert-warning\">\n",
    "    <b>QUESTION:</b> On which days is advertising the most effective? When is it least effective? What are some possible limitations to the conclusions we can draw from this graph?\n",
    "    </div>"
   ]
  },
  {
   "cell_type": "markdown",
   "metadata": {},
   "source": [
    "**ANSWER:** "
   ]
  },
  {
   "cell_type": "markdown",
   "metadata": {},
   "source": [
    "### 2b. EXERCISE: Consumer Response vs Hour of Day <a id=\"subsection2b\"></a>\n",
    "Next, we want to see how the conversion rate does or does not changes for each test group by *time of day*.\n",
    "\n",
    "The process will be almost identical to that in 2a for comparing consumer response to day of the week, with any references to day of week changed to hour of day. Try walking through the process step-by-step, and refer to 2a for guidance as needed.\n",
    "\n",
    "Start by creating the Table `ads_hour` that contains the three columns we need from `ads`: `\"most ads hour\"`, `\"test group\"` and `\"converted\"`."
   ]
  },
  {
   "cell_type": "markdown",
   "metadata": {},
   "source": [
    "Finally, create a horizontal bar graph by calling `barh` on your `hour_pivot` pivot table. Remember: the argument given to `barh` is the name of the column with the different categories we want to compare (in this case, the categories are the hours)."
   ]
  },
  {
   "cell_type": "code",
   "execution_count": null,
   "metadata": {},
   "outputs": [],
   "source": [
    "# make a bar plot\n",
    "sns.barplot(x=\"most ads hour\", y=\"converted\", hue=\"test group\", data=ads)"
   ]
  },
  {
   "cell_type": "markdown",
   "metadata": {},
   "source": [
    "# 3. Application: Rocket Fuel and Total Ads <a id=\"section3\"></a>\n",
    "\n",
    "One final question we want to explore is how the *total number of ads* a user saw relates to how *likely they were to convert*. \n",
    "\n",
    "The \"total ads\" variable is a little different from the other variables we've grouped by so far. The days of the week and the hours of the day are coded as numbers, but they act a bit like categorical data in some ways. \n",
    "\n",
    "- They have very limited possible values (1-7 for days of week, 0-23 for hours of day)\n",
    "- We can put them in order to some extent (day 1: Monday comes before day 2: Tuesday), but the ordering breaks down for the first and last values (day 7: Sunday comes before day 1: Monday)\n",
    "\n",
    "In contrast, the count of total ads is definitely *numerical data*. \"Total ads\" can take on many, many values and we can unequivically say that one total ad value is greater or less than another. \n",
    "\n",
    "In this section, we'll talk a bit about ways to visualize numerical data, as well as how (and why) to treat numerical data as categorical for analysis."
   ]
  },
  {
   "cell_type": "markdown",
   "metadata": {},
   "source": [
    "### 3a. Histograms <a id=\"subsection3a\"></a>\n",
    "\n",
    "A *histogram* is a visualization useful for numerical data. It shows the *distribution* of the values in a column of numerical data: that is, it shows all the different possible values and how often those values occur.\n",
    "\n",
    "Histograms are constructed using the `hist` method. As an example, here's the histogram of the variable \"most ads hour\", which gives the hours of the day when users saw the most ads."
   ]
  },
  {
   "cell_type": "code",
   "execution_count": null,
   "metadata": {},
   "outputs": [],
   "source": [
    "ads.hist(\"most ads hour\", bins=24);"
   ]
  },
  {
   "cell_type": "markdown",
   "metadata": {},
   "source": [
    "The horizontal axis gives the different possible hours of the day. The axis is divided into **bins**: intervals that contain one or more possible values. For instance, a narrow bin could hold all users that saw the most ads in hour 7, and a wider bin could encompass all users that saw the most ads in hour 7, 8, or 9.\n",
    "\n",
    "The height of the bar says what percentage of the users fell into the corresponding bin. So, a tall bar means that lots of users saw most of their ads during that bin's hour-of-day interval.\n",
    "\n",
    "This histogram shows us that most users saw the most ads around hour 15 (3PM) and very few users saw many ads between hour 0 (midnight) and hour 6 (6 AM).\n",
    "\n",
    "<br/>\n",
    "<div class=\"alert-warning\">\n",
    "    <b>EXERCISE:</b> Use `hist` to create the histogram for the \"total ads\" column in the `ads` table. What does the histogram tell us about the distribution of \"total ads\"?\n",
    "    </div>"
   ]
  },
  {
   "cell_type": "code",
   "execution_count": null,
   "metadata": {},
   "outputs": [],
   "source": [
    "ads.hist(\"total ads\", bins=100)"
   ]
  },
  {
   "cell_type": "markdown",
   "metadata": {},
   "source": [
    "### 3b. Consumer Response vs. Total Ads Seen <a id=\"subsection3b\"></a>\n",
    "\n",
    "We want to answer the question of how the *total number of ads seen* relates to the average *conversion rate*. \n",
    "\n",
    "We'll start the same way as we did to answer our questions about day of week and hour of day: create a new table with only the columns from `ads` that we will need for this question."
   ]
  },
  {
   "cell_type": "code",
   "execution_count": null,
   "metadata": {},
   "outputs": [],
   "source": [
    "# from ads, select total ads, test group, and converted\n",
    "ads_tot = ads.select(\"total ads\", \"test group\", \"converted\")\n",
    "ads_tot"
   ]
  },
  {
   "cell_type": "markdown",
   "metadata": {},
   "source": [
    "<div class=\"alert-warning\">\n",
    "    <b>EXERCISE:</b> From our histogram in 3a, we can see that while some users saw as many as 2000+ ads total, almost all users saw between 1 and about 200 ads. To avoid skewing our analysis by including conversion rates for very rare \"total ads\" counts, let's select only the rows where there are less than 211 ads.\n",
    "\n",
    "Hint: use the `where` function with the predicate `are.below`\n",
    "</div>"
   ]
  },
  {
   "cell_type": "code",
   "execution_count": 3,
   "metadata": {},
   "outputs": [
    {
     "data": {
      "text/html": [
       "<div>\n",
       "<style scoped>\n",
       "    .dataframe tbody tr th:only-of-type {\n",
       "        vertical-align: middle;\n",
       "    }\n",
       "\n",
       "    .dataframe tbody tr th {\n",
       "        vertical-align: top;\n",
       "    }\n",
       "\n",
       "    .dataframe thead th {\n",
       "        text-align: right;\n",
       "    }\n",
       "</style>\n",
       "<table border=\"1\" class=\"dataframe\">\n",
       "  <thead>\n",
       "    <tr style=\"text-align: right;\">\n",
       "      <th></th>\n",
       "      <th>test group</th>\n",
       "      <th>converted</th>\n",
       "      <th>total ads</th>\n",
       "      <th>most ads day</th>\n",
       "      <th>most ads hour</th>\n",
       "    </tr>\n",
       "    <tr>\n",
       "      <th>user id</th>\n",
       "      <th></th>\n",
       "      <th></th>\n",
       "      <th></th>\n",
       "      <th></th>\n",
       "      <th></th>\n",
       "    </tr>\n",
       "  </thead>\n",
       "  <tbody>\n",
       "    <tr>\n",
       "      <th>1069124</th>\n",
       "      <td>ad</td>\n",
       "      <td>0</td>\n",
       "      <td>130</td>\n",
       "      <td>1:Mon</td>\n",
       "      <td>20</td>\n",
       "    </tr>\n",
       "    <tr>\n",
       "      <th>1119715</th>\n",
       "      <td>ad</td>\n",
       "      <td>0</td>\n",
       "      <td>93</td>\n",
       "      <td>2:Tues</td>\n",
       "      <td>22</td>\n",
       "    </tr>\n",
       "    <tr>\n",
       "      <th>1144181</th>\n",
       "      <td>ad</td>\n",
       "      <td>0</td>\n",
       "      <td>21</td>\n",
       "      <td>2:Tues</td>\n",
       "      <td>18</td>\n",
       "    </tr>\n",
       "    <tr>\n",
       "      <th>1496843</th>\n",
       "      <td>ad</td>\n",
       "      <td>0</td>\n",
       "      <td>17</td>\n",
       "      <td>7:Sun</td>\n",
       "      <td>18</td>\n",
       "    </tr>\n",
       "    <tr>\n",
       "      <th>1448851</th>\n",
       "      <td>ad</td>\n",
       "      <td>0</td>\n",
       "      <td>21</td>\n",
       "      <td>2:Tues</td>\n",
       "      <td>19</td>\n",
       "    </tr>\n",
       "  </tbody>\n",
       "</table>\n",
       "</div>"
      ],
      "text/plain": [
       "        test group  converted  total ads most ads day  most ads hour\n",
       "user id                                                             \n",
       "1069124         ad          0        130        1:Mon             20\n",
       "1119715         ad          0         93       2:Tues             22\n",
       "1144181         ad          0         21       2:Tues             18\n",
       "1496843         ad          0         17        7:Sun             18\n",
       "1448851         ad          0         21       2:Tues             19"
      ]
     },
     "execution_count": 3,
     "metadata": {},
     "output_type": "execute_result"
    }
   ],
   "source": [
    "# use where to get rows that saw less than 211 ads\n",
    "ads_small = ads[ads[\"total ads\"] < 211]\n",
    "ads_small.head()"
   ]
  },
  {
   "cell_type": "markdown",
   "metadata": {},
   "source": [
    "\"total ads\" is now restricted to 210 possible values- much less than the original range. Let's try redrawing the histogram."
   ]
  },
  {
   "cell_type": "code",
   "execution_count": null,
   "metadata": {},
   "outputs": [],
   "source": [
    "# create a histogram for the distribution of total ads\n",
    "ads_small.hist(\"total ads\", bins=50);"
   ]
  },
  {
   "cell_type": "markdown",
   "metadata": {},
   "source": [
    "The large majority of the values are still concentrated on the low end of the possible values, but we've reduced the *skew* a bit- you can now actually see the bars on the right side of the histogram. \n",
    "\n",
    "The histogram also gives us clues for how to visualize our \"average conversion rates per test group and total ads count\" we want to answer our question. Since some values of total ads are pretty rare, we will want to group similar \"total value\" counts together and calculate the average conversion rate for the group, rather than for each individual count. \n",
    "\n",
    "Note that this also seems like a reasonable assumption: we assume that someone who saw 147 ads will behave similarly to someone who saw 145 or 149.\n",
    "\n",
    "We can make the numerical \"total ads\" into categorical ranges of total ad counts with a function called `change_to_range` that takes in a number and outputs a range containing that number. `apply` is a Table function that will apply `change_to_range` to each value in the \"total ads\" column."
   ]
  },
  {
   "cell_type": "code",
   "execution_count": 11,
   "metadata": {},
   "outputs": [],
   "source": [
    "def round_down_nearest_10(i):\n",
    "    return math.floor(i/10) * 10"
   ]
  },
  {
   "cell_type": "code",
   "execution_count": 12,
   "metadata": {},
   "outputs": [
    {
     "name": "stderr",
     "output_type": "stream",
     "text": [
      "C:\\Users\\keeley\\Anaconda3\\lib\\site-packages\\ipykernel_launcher.py:1: SettingWithCopyWarning: \n",
      "A value is trying to be set on a copy of a slice from a DataFrame.\n",
      "Try using .loc[row_indexer,col_indexer] = value instead\n",
      "\n",
      "See the caveats in the documentation: http://pandas.pydata.org/pandas-docs/stable/indexing.html#indexing-view-versus-copy\n",
      "  \"\"\"Entry point for launching an IPython kernel.\n"
     ]
    },
    {
     "data": {
      "text/html": [
       "<div>\n",
       "<style scoped>\n",
       "    .dataframe tbody tr th:only-of-type {\n",
       "        vertical-align: middle;\n",
       "    }\n",
       "\n",
       "    .dataframe tbody tr th {\n",
       "        vertical-align: top;\n",
       "    }\n",
       "\n",
       "    .dataframe thead th {\n",
       "        text-align: right;\n",
       "    }\n",
       "</style>\n",
       "<table border=\"1\" class=\"dataframe\">\n",
       "  <thead>\n",
       "    <tr style=\"text-align: right;\">\n",
       "      <th></th>\n",
       "      <th>test group</th>\n",
       "      <th>converted</th>\n",
       "      <th>total ads</th>\n",
       "      <th>most ads day</th>\n",
       "      <th>most ads hour</th>\n",
       "      <th>total ad range</th>\n",
       "    </tr>\n",
       "    <tr>\n",
       "      <th>user id</th>\n",
       "      <th></th>\n",
       "      <th></th>\n",
       "      <th></th>\n",
       "      <th></th>\n",
       "      <th></th>\n",
       "      <th></th>\n",
       "    </tr>\n",
       "  </thead>\n",
       "  <tbody>\n",
       "    <tr>\n",
       "      <th>1069124</th>\n",
       "      <td>ad</td>\n",
       "      <td>0</td>\n",
       "      <td>130</td>\n",
       "      <td>1:Mon</td>\n",
       "      <td>20</td>\n",
       "      <td>130</td>\n",
       "    </tr>\n",
       "    <tr>\n",
       "      <th>1119715</th>\n",
       "      <td>ad</td>\n",
       "      <td>0</td>\n",
       "      <td>93</td>\n",
       "      <td>2:Tues</td>\n",
       "      <td>22</td>\n",
       "      <td>90</td>\n",
       "    </tr>\n",
       "    <tr>\n",
       "      <th>1144181</th>\n",
       "      <td>ad</td>\n",
       "      <td>0</td>\n",
       "      <td>21</td>\n",
       "      <td>2:Tues</td>\n",
       "      <td>18</td>\n",
       "      <td>20</td>\n",
       "    </tr>\n",
       "    <tr>\n",
       "      <th>1496843</th>\n",
       "      <td>ad</td>\n",
       "      <td>0</td>\n",
       "      <td>17</td>\n",
       "      <td>7:Sun</td>\n",
       "      <td>18</td>\n",
       "      <td>10</td>\n",
       "    </tr>\n",
       "    <tr>\n",
       "      <th>1448851</th>\n",
       "      <td>ad</td>\n",
       "      <td>0</td>\n",
       "      <td>21</td>\n",
       "      <td>2:Tues</td>\n",
       "      <td>19</td>\n",
       "      <td>20</td>\n",
       "    </tr>\n",
       "  </tbody>\n",
       "</table>\n",
       "</div>"
      ],
      "text/plain": [
       "        test group  converted  total ads most ads day  most ads hour  \\\n",
       "user id                                                                \n",
       "1069124         ad          0        130        1:Mon             20   \n",
       "1119715         ad          0         93       2:Tues             22   \n",
       "1144181         ad          0         21       2:Tues             18   \n",
       "1496843         ad          0         17        7:Sun             18   \n",
       "1448851         ad          0         21       2:Tues             19   \n",
       "\n",
       "         total ad range  \n",
       "user id                  \n",
       "1069124             130  \n",
       "1119715              90  \n",
       "1144181              20  \n",
       "1496843              10  \n",
       "1448851              20  "
      ]
     },
     "execution_count": 12,
     "metadata": {},
     "output_type": "execute_result"
    }
   ],
   "source": [
    "ads_small[\"total ad range\"] =ads_small[\"total ads\"].apply(round_down_nearest_10)\n",
    "ads_small.head()\n"
   ]
  },
  {
   "cell_type": "markdown",
   "metadata": {},
   "source": [
    "\n",
    "\n",
    "<div class=\"alert-warning\">\n",
    "    <b>EXERCISE:</b> Now, we want to create a pivot table where the columns are the test groups, the rows are the total ads, and the values are calculated from \"converted\" and collected using `np.average`.\n",
    "    </div>"
   ]
  },
  {
   "cell_type": "markdown",
   "metadata": {},
   "source": [
    "Finally, use `barh` to create a bar plot of the data in `total_pivot`. The total ad ranges should be on the vertical axis."
   ]
  },
  {
   "cell_type": "code",
   "execution_count": null,
   "metadata": {},
   "outputs": [],
   "source": [
    "sns.barplot(x=\"total ad range\", y=\"converted\", hue=\"test group\",\n",
    "           data=ads_small)"
   ]
  },
  {
   "cell_type": "markdown",
   "metadata": {},
   "source": [
    "<div class=\"alert-warning\">\n",
    "    <b>QUESTION:</b> What can you infer from the plot? In what region is advertising most effective?\n",
    "    </div>"
   ]
  },
  {
   "cell_type": "markdown",
   "metadata": {},
   "source": [
    "**ANSWER:**"
   ]
  },
  {
   "cell_type": "markdown",
   "metadata": {},
   "source": [
    "<div class=\"alert-warning\">\n",
    "    <b>QUESTION:</b> What do the above figures imply for the design of the next campaign assuming that consumer response would be similar?\n",
    "    </div>"
   ]
  },
  {
   "cell_type": "markdown",
   "metadata": {},
   "source": [
    "**ANSWER:** "
   ]
  },
  {
   "cell_type": "markdown",
   "metadata": {},
   "source": [
    "#### References\n",
    "\n",
    "- Rocket Fuel data and discussion questions adapted from materials by Zsolt Katona and Brian Bell, BerkeleyHaas Case Series\n",
    "- \"For loop\" section adapted from materials by Kelly Chen at [UC Berkeley Data Modules](https://github.com/ds-modules/core-resources)"
   ]
  },
  {
   "cell_type": "markdown",
   "metadata": {},
   "source": [
    "Author: Keeley Takimoto"
   ]
  }
 ],
 "metadata": {
  "kernelspec": {
   "display_name": "Python 3",
   "language": "python",
   "name": "python3"
  },
  "language_info": {
   "codemirror_mode": {
    "name": "ipython",
    "version": 3
   },
   "file_extension": ".py",
   "mimetype": "text/x-python",
   "name": "python",
   "nbconvert_exporter": "python",
   "pygments_lexer": "ipython3",
   "version": "3.6.4"
  }
 },
 "nbformat": 4,
 "nbformat_minor": 2
}
