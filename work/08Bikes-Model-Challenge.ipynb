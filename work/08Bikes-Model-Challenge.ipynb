{
 "cells": [
  {
   "cell_type": "markdown",
   "metadata": {},
   "source": [
    "# Data Science: Bridging Principle and Practice\n",
    "## Part 8: Improving the Model(Bike Sharing case study)\n",
    "\n",
    "<br/>\n",
    "\n",
    "<div class=\"container\">\n",
    "    <div style=\"float:left;width:40%\">\n",
    "\t    <img src=\"images/bikeshare_sun.jpg\">\n",
    "    </div>\n",
    "    <div style=\"float:left;width:40%\">\n",
    "\t    <img src=\"images/bikeshare_snow.PNG\">\n",
    "    </div>\n",
    "</div>\n",
    "\n",
    "### Table of Contents\n",
    "\n",
    "[Case Study: Bike Sharing](#sectioncase)<br>\n",
    "\n",
    "<ol start=\"8\">\n",
    "    <li><a href=\"section8\">Linear Regression Model</a>\n",
    "        <ol type=a>\n",
    "            <br>\n",
    "            <li><a href=\"section7a\">Explanatory and Response Variables</a></li>\n",
    "            <br>\n",
    "            <li><a href=\"section7b\">Finding &beta;</a></li>\n",
    "            <br>\n",
    "            <li><a href=\"section7c\">Evaluating the Model</a></li>            \n",
    "        </ol>\n",
    "    </li>\n",
    "    </ol>\n"
   ]
  },
  {
   "cell_type": "code",
   "execution_count": 1,
   "metadata": {},
   "outputs": [],
   "source": [
    "# run this cell to import some necessary packages\n",
    "import pandas as pd\n",
    "import numpy as np\n",
    "import matplotlib.pyplot as plt\n",
    "plt.style.use('fivethirtyeight')\n",
    "%matplotlib inline\n",
    "import seaborn as sns\n",
    "\n",
    "import ipywidgets as widgets\n",
    "from scipy.linalg import lstsq\n",
    "import ipywidgets as widgets\n",
    "from sklearn.linear_model import LinearRegression\n",
    "from sklearn.metrics import mean_squared_error as mse\n",
    "from sklearn.model_selection import train_test_split\n",
    "from IPython.display import display,clear_output\n"
   ]
  },
  {
   "cell_type": "markdown",
   "metadata": {},
   "source": [
    "## Case Study: Capital Bike Share <a id= \"sectioncase\"></a>\n",
    "\n",
    "Bike-sharing systems have become increasingly popular worldwide as environmentally-friendly solutions to traffic congestion, inadequate public transit, and the \"last-mile\" problem. Capital Bikeshare runs one such system in the Washington, D.C. metropolitan area.\n",
    "\n",
    "The Capital Bikeshare system comprises docks of bikes, strategically placed across the area, that can be unlocked by *registered* users who have signed up for a monthly or yearly plan or by *casual* users who pay by the hour or day. They collect data on the number of casual and registered users per hour and per day.\n",
    "\n",
    "Let's say that Capital Bikeshare is interested in a **prediction** problem: predicting how many riders they can expect to have on a given day. [UC Irvine's Machine Learning Repository](https://archive.ics.uci.edu/ml/datasets/Bike+Sharing+Dataset) has combined the bike sharing data with information about weather conditions and holidays to try to answer this question.\n",
    "\n",
    "In this notebook, we'll walk through the steps a data scientist would take to answer this question."
   ]
  },
  {
   "cell_type": "code",
   "execution_count": 2,
   "metadata": {},
   "outputs": [
    {
     "data": {
      "text/html": [
       "<div>\n",
       "<style scoped>\n",
       "    .dataframe tbody tr th:only-of-type {\n",
       "        vertical-align: middle;\n",
       "    }\n",
       "\n",
       "    .dataframe tbody tr th {\n",
       "        vertical-align: top;\n",
       "    }\n",
       "\n",
       "    .dataframe thead th {\n",
       "        text-align: right;\n",
       "    }\n",
       "</style>\n",
       "<table border=\"1\" class=\"dataframe\">\n",
       "  <thead>\n",
       "    <tr style=\"text-align: right;\">\n",
       "      <th></th>\n",
       "      <th>date</th>\n",
       "      <th>season</th>\n",
       "      <th>year</th>\n",
       "      <th>month</th>\n",
       "      <th>is holiday</th>\n",
       "      <th>week day</th>\n",
       "      <th>is work day</th>\n",
       "      <th>weather</th>\n",
       "      <th>temp</th>\n",
       "      <th>felt temp</th>\n",
       "      <th>humidity</th>\n",
       "      <th>windspeed</th>\n",
       "      <th>casual riders</th>\n",
       "      <th>registered riders</th>\n",
       "      <th>total riders</th>\n",
       "    </tr>\n",
       "    <tr>\n",
       "      <th>instant</th>\n",
       "      <th></th>\n",
       "      <th></th>\n",
       "      <th></th>\n",
       "      <th></th>\n",
       "      <th></th>\n",
       "      <th></th>\n",
       "      <th></th>\n",
       "      <th></th>\n",
       "      <th></th>\n",
       "      <th></th>\n",
       "      <th></th>\n",
       "      <th></th>\n",
       "      <th></th>\n",
       "      <th></th>\n",
       "      <th></th>\n",
       "    </tr>\n",
       "  </thead>\n",
       "  <tbody>\n",
       "    <tr>\n",
       "      <th>93</th>\n",
       "      <td>2011-04-03</td>\n",
       "      <td>summer</td>\n",
       "      <td>2011</td>\n",
       "      <td>4</td>\n",
       "      <td>no</td>\n",
       "      <td>sunday</td>\n",
       "      <td>no</td>\n",
       "      <td>1</td>\n",
       "      <td>0.378333</td>\n",
       "      <td>0.378767</td>\n",
       "      <td>0.480000</td>\n",
       "      <td>0.182213</td>\n",
       "      <td>1651</td>\n",
       "      <td>1598</td>\n",
       "      <td>3249</td>\n",
       "    </tr>\n",
       "    <tr>\n",
       "      <th>497</th>\n",
       "      <td>2012-05-11</td>\n",
       "      <td>summer</td>\n",
       "      <td>2012</td>\n",
       "      <td>5</td>\n",
       "      <td>no</td>\n",
       "      <td>friday</td>\n",
       "      <td>yes</td>\n",
       "      <td>1</td>\n",
       "      <td>0.533333</td>\n",
       "      <td>0.520833</td>\n",
       "      <td>0.360417</td>\n",
       "      <td>0.236937</td>\n",
       "      <td>1319</td>\n",
       "      <td>5711</td>\n",
       "      <td>7030</td>\n",
       "    </tr>\n",
       "    <tr>\n",
       "      <th>596</th>\n",
       "      <td>2012-08-18</td>\n",
       "      <td>fall</td>\n",
       "      <td>2012</td>\n",
       "      <td>8</td>\n",
       "      <td>no</td>\n",
       "      <td>saturday</td>\n",
       "      <td>no</td>\n",
       "      <td>1</td>\n",
       "      <td>0.678333</td>\n",
       "      <td>0.618071</td>\n",
       "      <td>0.603333</td>\n",
       "      <td>0.177867</td>\n",
       "      <td>2827</td>\n",
       "      <td>5038</td>\n",
       "      <td>7865</td>\n",
       "    </tr>\n",
       "    <tr>\n",
       "      <th>397</th>\n",
       "      <td>2012-02-01</td>\n",
       "      <td>spring</td>\n",
       "      <td>2012</td>\n",
       "      <td>2</td>\n",
       "      <td>no</td>\n",
       "      <td>wednesday</td>\n",
       "      <td>yes</td>\n",
       "      <td>1</td>\n",
       "      <td>0.469167</td>\n",
       "      <td>0.466538</td>\n",
       "      <td>0.507917</td>\n",
       "      <td>0.189067</td>\n",
       "      <td>304</td>\n",
       "      <td>4275</td>\n",
       "      <td>4579</td>\n",
       "    </tr>\n",
       "    <tr>\n",
       "      <th>623</th>\n",
       "      <td>2012-09-14</td>\n",
       "      <td>fall</td>\n",
       "      <td>2012</td>\n",
       "      <td>9</td>\n",
       "      <td>no</td>\n",
       "      <td>friday</td>\n",
       "      <td>yes</td>\n",
       "      <td>1</td>\n",
       "      <td>0.633333</td>\n",
       "      <td>0.594083</td>\n",
       "      <td>0.672500</td>\n",
       "      <td>0.103863</td>\n",
       "      <td>1379</td>\n",
       "      <td>6630</td>\n",
       "      <td>8009</td>\n",
       "    </tr>\n",
       "  </tbody>\n",
       "</table>\n",
       "</div>"
      ],
      "text/plain": [
       "               date  season  year  month is holiday   week day is work day  \\\n",
       "instant                                                                      \n",
       "93       2011-04-03  summer  2011      4         no     sunday          no   \n",
       "497      2012-05-11  summer  2012      5         no     friday         yes   \n",
       "596      2012-08-18    fall  2012      8         no   saturday          no   \n",
       "397      2012-02-01  spring  2012      2         no  wednesday         yes   \n",
       "623      2012-09-14    fall  2012      9         no     friday         yes   \n",
       "\n",
       "         weather      temp  felt temp  humidity  windspeed  casual riders  \\\n",
       "instant                                                                     \n",
       "93             1  0.378333   0.378767  0.480000   0.182213           1651   \n",
       "497            1  0.533333   0.520833  0.360417   0.236937           1319   \n",
       "596            1  0.678333   0.618071  0.603333   0.177867           2827   \n",
       "397            1  0.469167   0.466538  0.507917   0.189067            304   \n",
       "623            1  0.633333   0.594083  0.672500   0.103863           1379   \n",
       "\n",
       "         registered riders  total riders  \n",
       "instant                                   \n",
       "93                    1598          3249  \n",
       "497                   5711          7030  \n",
       "596                   5038          7865  \n",
       "397                   4275          4579  \n",
       "623                   6630          8009  "
      ]
     },
     "execution_count": 2,
     "metadata": {},
     "output_type": "execute_result"
    }
   ],
   "source": [
    "# run this cell to load the data\n",
    "bikes = pd.read_csv(\"../resource/data/day_renamed_dso.csv\", index_col=0)\n",
    "\n",
    "np.random.seed(28)\n",
    "bikes, bike_test = train_test_split(bikes, train_size=0.8, test_size=0.2)\n",
    "bike_train, bike_val = train_test_split(bikes, train_size=0.8, test_size=0.2)\n",
    "\n",
    "# reformat the date column from strings to dates\n",
    "bike_train.head()"
   ]
  },
  {
   "cell_type": "markdown",
   "metadata": {},
   "source": [
    "A few of the less straight-forward columns can be described as follows:\n",
    "- **instant**: record index\n",
    "- **is 2012** : 1 if the date is in 2012, 0 if the date is in 2011\n",
    "- **is holiday** : 1 if day is a holiday, 0 otherwise\n",
    "- **is work day** : 1 if day is not a weekend or holiday, otherwise 0\n",
    "- **weather** :\n",
    "    - 1: Clear, Few clouds, Partly cloudy, Partly cloudy\n",
    "    - 2: Mist + Cloudy, Mist + Broken clouds, Mist + Few clouds, Mist\n",
    "    - 3: Light Snow, Light Rain + Thunderstorm + Scattered clouds, Light Rain + Scattered clouds\n",
    "    - 4: Heavy Rain + Ice Pallets + Thunderstorm + Mist, Snow + Fog\n",
    "- **temp** : Normalized temperature in Celsius. The values are derived via (t-t_min)/(t_max-t_min), t_min=-8, t_max=+39 (only in hourly scale)\n",
    "- **felt temp**: Normalized feeling temperature in Celsius. The values are derived via (t-t_min)/(t_max-t_min), t_min=-16, t_max=+50 (only in hourly scale)\n",
    "- **humidity**: Normalized humidity. The values are divided to 100 (max)\n",
    "- **windspeed**: Normalized wind speed. The values are divided to 67 (max)\n",
    "- **casual**: count of casual users\n",
    "- **registered**: count of registered users\n",
    "- **total riders**: count of total rental bikes (casual + registered)"
   ]
  },
  {
   "cell_type": "markdown",
   "metadata": {},
   "source": [
    "## 8. Improving the Model <a id=\"section8\"></a>\n",
    "\n",
    "In notebook 07, we created a linear regression model where we tried to predict the total number of riders on a given day based on the temperature, season, and whether or not the day was a work day. Ultimately, our model was not very accurate; the RMSE was over 1000 for the training data. Our challenge now is to build a better model.\n",
    "\n",
    "In the following cells you have almost everything you need to create a new linear regression model. To try a new model, fill in the two sets of ellipses below:\n",
    "- set `response` to the *string name* of the response variable you want to predict\n",
    "- set `expl` to be a *list of string names of explanatory variables* you want to incorporate into the model. Remember, the names should be strings (i.e. in quotation marks) and separated by commas in between the square brackets.\n",
    "\n",
    "Once you've filled in the ellipses, run all the cells below in order to recalculate the $\\beta$ vector, make new predictions, and look at the residuals. A helpful tip: in the \"Cell\" menu at the top, clicking \"Run All Below\" will run all code cells below the cell you currently have selected.\n",
    "\n",
    "How accurate can you make the model?"
   ]
  },
  {
   "cell_type": "code",
   "execution_count": 3,
   "metadata": {},
   "outputs": [
    {
     "data": {
      "text/plain": [
       "False"
      ]
     },
     "execution_count": 3,
     "metadata": {},
     "output_type": "execute_result"
    }
   ],
   "source": [
    "x = 1\n",
    "x in locals()"
   ]
  },
  {
   "cell_type": "code",
   "execution_count": 11,
   "metadata": {},
   "outputs": [],
   "source": [
    "def make_X(df, var_names):\n",
    "    \"\"\"Given a DataFrame and a list of explanatory variables, one-hot encodes\n",
    "    variables if they are categorical and returns a dataframe with \n",
    "    all the given explanatory variables.\"\"\"\n",
    "    categorical = [\"month\", \"week day\", \"season\"]\n",
    "    boolean = [\"is holiday\", \"is work day\"]\n",
    "    X = pd.DataFrame({\"intercept\":np.ones(df.shape[0], dtype='int')}, index = df.index)\n",
    "    for var in var_names:\n",
    "        if var in categorical:\n",
    "            dummies = pd.get_dummies(df[var])\n",
    "            formatted = dummies.drop(dummies.columns[-1], axis=1)\n",
    "        elif var in boolean:\n",
    "            formatted = (df[var] == \"yes\") * 1\n",
    "        else:\n",
    "            formatted = df.loc[:, var]\n",
    "        X = X.join(formatted)\n",
    "      \n",
    "    return X\n",
    "\n",
    "def predict(response_var, fit_intercept, **kwargs):\n",
    "    plt.close()\n",
    "    # select and format X and y\n",
    "    y_train = bike_train[response_var]\n",
    "    y_val = bike_val[response_var]\n",
    "    \n",
    "    expl_vars = [var for var in kwargs if kwargs[var]]\n",
    "    \n",
    "    # bounce if there's no variables for the model\n",
    "    if len(expl_vars) == 0 and not fit_intercept:\n",
    "        print(\"Please select at least one explanatory variable to include in the model.\")\n",
    "        return\n",
    "    \n",
    "    X_train = make_X(bike_train, expl_vars)\n",
    "    X_val = make_X(bike_val, expl_vars)\n",
    "    \n",
    "    if not fit_intercept:\n",
    "        X_train.drop(\"intercept\", axis=1, inplace=True)\n",
    "        X_val.drop(\"intercept\", axis=1, inplace=True)\n",
    "    \n",
    "    # calculate beta\n",
    "    beta = lstsq(X_train, y_train)[0]\n",
    "    \n",
    "    # make predictions\n",
    "    pred_train = X_train @ beta\n",
    "    pred_val = X_val @ beta\n",
    "    \n",
    "    # generate plots \n",
    "    f, [[ax1, ax2], [ax3, ax4]] = plt.subplots(2, 2, figsize=(12, 12))\n",
    "\n",
    "    sns.regplot(x=y_train, y=pred_train, ax=ax1, color=\"#003262\") \n",
    "    ax1.set_xlabel(response_var)\n",
    "    ax1.set_ylabel(\"predicted {}\".format(response_var))\n",
    "    ax1.set_title(\"Predicted vs. Actual Values (Training Data)\")\n",
    "    \n",
    "    sns.regplot(x=y_val, y=pred_val, ax=ax2, color=\"#FDB515\")\n",
    "    ax2.set_xlabel(response_var)\n",
    "    ax2.set_ylabel(\"predicted {}\".format(response_var))\n",
    "    ax2.set_title(\"Predicted vs. Actual Values (Validation Data)\")\n",
    "    \n",
    "    sns.regplot(x=y_train, y=y_train - pred_train, ax=ax3, color=\"#003262\") \n",
    "    ax3.set_xlabel(response_var)\n",
    "    ax3.set_ylabel(\"error ({} - predicted {})\".format(response_var, response_var))\n",
    "    ax3.set_title(\"Error (Training Data)\")\n",
    "    \n",
    "    sns.regplot(x=y_val, y=y_val - pred_val, ax=ax4, color=\"#FDB515\")\n",
    "    ax4.set_xlabel(response_var)\n",
    "    ax4.set_ylabel(\"error ({} - predicted {})\".format(response_var, response_var))\n",
    "    ax4.set_title(\"Error (Validation Data)\")\n",
    "            \n",
    "    \n",
    "    # calculate rmse\n",
    "    print(\"Training data RMSE = {}\".format(np.sqrt(mse(pred_train, y_train))))\n",
    "    print(\"Validation data RMSE = {}\".format(np.sqrt(mse(pred_val, y_val))))\n",
    "        "
   ]
  },
  {
   "cell_type": "code",
   "execution_count": 5,
   "metadata": {},
   "outputs": [],
   "source": [
    "expl_vars = [widgets.ToggleButton(description=var) for var in bike_train.columns[1:13]]\n",
    "expl_buttons = widgets.Box(expl_vars)\n"
   ]
  },
  {
   "cell_type": "code",
   "execution_count": 15,
   "metadata": {},
   "outputs": [],
   "source": [
    "response_radio = widgets.RadioButtons(\n",
    "    options=['total riders', 'casual riders', 'registered riders'],\n",
    "    description='Response variable:'\n",
    ")\n",
    "\n",
    "intercept = widgets.ToggleButton(description=\"intercept\")"
   ]
  },
  {
   "cell_type": "code",
   "execution_count": 17,
   "metadata": {
    "scrolled": false
   },
   "outputs": [
    {
     "data": {
      "application/vnd.jupyter.widget-view+json": {
       "model_id": "a5213fd9dbba430c814f08406ecec8ce",
       "version_major": 2,
       "version_minor": 0
      },
      "text/plain": [
       "Box(children=(ToggleButton(value=False, description='season'), ToggleButton(value=False, description='year'), …"
      ]
     },
     "metadata": {},
     "output_type": "display_data"
    },
    {
     "data": {
      "application/vnd.jupyter.widget-view+json": {
       "model_id": "1ef80465481740968d0b4367e8aeba33",
       "version_major": 2,
       "version_minor": 0
      },
      "text/plain": [
       "ToggleButton(value=False, description='intercept')"
      ]
     },
     "metadata": {},
     "output_type": "display_data"
    },
    {
     "data": {
      "application/vnd.jupyter.widget-view+json": {
       "model_id": "d9dcb2a2173d42d2a15fd51fa8ecacde",
       "version_major": 2,
       "version_minor": 0
      },
      "text/plain": [
       "RadioButtons(description='Response variable:', options=('total riders', 'casual riders', 'registered riders'),…"
      ]
     },
     "metadata": {},
     "output_type": "display_data"
    },
    {
     "data": {
      "application/vnd.jupyter.widget-view+json": {
       "model_id": "4e9aa887f48e44c897804959e8f6a9b8",
       "version_major": 2,
       "version_minor": 0
      },
      "text/plain": [
       "Output(layout=Layout(height='800px'))"
      ]
     },
     "metadata": {},
     "output_type": "display_data"
    }
   ],
   "source": [
    "kwargs = {bike_train.columns[1:12][i]: expl_vars[i] for i in range(11)}\n",
    "kwargs['fit_intercept'] = intercept\n",
    "kwargs['response_var'] = response_radio\n",
    "out = widgets.interactive_output(predict, kwargs)\n",
    "out.layout.height = '800px'\n",
    "\n",
    "display(expl_buttons,  intercept, response_radio,out)\n",
    "\n"
   ]
  },
  {
   "cell_type": "code",
   "execution_count": null,
   "metadata": {},
   "outputs": [],
   "source": []
  },
  {
   "cell_type": "markdown",
   "metadata": {},
   "source": [
    "<div class=\"class alert-warning\">\n",
    "<b>QUESTION:</b> What explanatory variables did you use in the best model you found? What metrics showed that it was the \"best\" model? Reference the scatter plots, fit lines, RMSE, etc.\n",
    "</div>"
   ]
  },
  {
   "cell_type": "markdown",
   "metadata": {},
   "source": [
    "**ANSWER:**"
   ]
  },
  {
   "cell_type": "markdown",
   "metadata": {},
   "source": [
    "#### References\n",
    "- Bike-Sharing data set from University of California Irvine's Machine Learning Repository https://archive.ics.uci.edu/ml/datasets/Bike+Sharing+Dataset\n",
    "- Portions of text and code adapted from Professor Jonathan Marshall's Legal Studies 190 (Data, Prediction, and Law) course materials: [lab 2-22-18, Linear Regression](https://github.com/ds-modules/LEGALST-190/tree/master/labs/2-22) (Author Keeley Takimoto)  and [lab 3-22-18, Exploratory Data Analysis](https://github.com/ds-modules/LEGALST-190/tree/masterlabs/3-22) (Author Keeley Takimoto)\n",
    "- \"Capital Bikeshare, Washington, DC\" header image by [Leeann Caferatta](https://www.flickr.com/photos/leeanncafferata/34309356871) licensed under [CC BY-ND 2.0](https://creativecommons.org/licenses/by-nd/2.0/)"
   ]
  }
 ],
 "metadata": {
  "kernelspec": {
   "display_name": "Python 3",
   "language": "python",
   "name": "python3"
  },
  "language_info": {
   "codemirror_mode": {
    "name": "ipython",
    "version": 3
   },
   "file_extension": ".py",
   "mimetype": "text/x-python",
   "name": "python",
   "nbconvert_exporter": "python",
   "pygments_lexer": "ipython3",
   "version": "3.6.7"
  }
 },
 "nbformat": 4,
 "nbformat_minor": 2
}
