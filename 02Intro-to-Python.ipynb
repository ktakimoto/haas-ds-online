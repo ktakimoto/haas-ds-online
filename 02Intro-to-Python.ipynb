{
 "cells": [
  {
   "cell_type": "markdown",
   "metadata": {},
   "source": [
    "# Data Science Online\n",
    "## Part 2: Introduction to Python\n",
    "\n",
    "<img src=\"images/berkeley_img-4-1.jpg\" style=\"width: 700px; height: 300px;\" />\n",
    "\n",
    "*In this notebook, we'll cover some basics of how to send instructions to your computer in the Python programming language.*\n",
    "\n",
    "### Table of Contents\n",
    "\n",
    "<a href='#section case'>The Data: Rocket Fuel ad campaign</a>\n",
    "\n",
    "1.  <a href='#section 1'>The Python Programming Language</a>\n",
    "\n",
    "    a. <a href='#subsection 1a'>Expressions</a> and <a href='#subsection error'>Errors</a>\n",
    "\n",
    "    b. <a href='#subsection 1b'>Names</a>\n",
    "\n",
    "    c. <a href='#subsection 1c'>Functions</a>\n",
    "\n",
    "    d. <a href='#subsection 1d'>Sequences</a>"
   ]
  },
  {
   "cell_type": "markdown",
   "metadata": {},
   "source": [
    "## The Data: Rocket Fuel Ad Campaign <a id='section case'></a>\n",
    "\n",
    "[Rocket Fuel Inc.](https://rocketfuel.com/programmatic-marketing-platform/) (NASDAQ: FUEL), works in digital advertising offering a \"Programmatic Marketing Platform\" that claims to optimize digital marketing through big data and machine learning techniques.\n",
    "\n",
    "In 2015, Rocket Fuel ran a trial ad campaign for handbag manufacturer TaskBella. TaskBella was interested in answering two questions:\n",
    "\n",
    "1. Would the campaign be successful?\n",
    "2. If the campaign was successful, how much of that success could be attributed to the ads?\n",
    "\n",
    "With the second question in mind, they agreed to run an **A/B test**. The majority of the people exposed to Rocket Fuel's content delivery network would see TaskBella's handbag ad (the **experimental group**). But, a small portion of people (the **control group**) would instead see a Public Service Announcement (PSA) in the exact size and place the ad would normally be. One PSA example is below:\n",
    "\n",
    "<img src=\"images/smokey_bear_psa.PNG\" style=\"width: 700px; height: 300px;\" />\n",
    "\n",
    "We can duplicate the Rocket Fuel analysis in a Jupyter notebook. But first, we need to learn a bit about how to talk to a computer."
   ]
  },
  {
   "cell_type": "markdown",
   "metadata": {},
   "source": [
    "Before we begin, we'll need a few extra tools to conduct our analysis. Run the next cell to load some code packages that we'll use later. A **code package** is a collection of code, already written by others, that we can use to analyze data.\n",
    "\n",
    "<div class=\"alert alert-info\"><b>Note:</b> this cell MUST be run in order for most of the rest of the notebook to work.</div>"
   ]
  },
  {
   "cell_type": "code",
   "execution_count": null,
   "metadata": {},
   "outputs": [],
   "source": [
    "# dependencies: THIS CELL MUST BE RUN\n",
    "import pandas as pd\n",
    "import numpy as np\n",
    "import math"
   ]
  },
  {
   "cell_type": "markdown",
   "metadata": {},
   "source": [
    "**DataFrames** are fundamental ways of organizing and displaying data in tables. Run the next cell to load the Rocket Fuel case data into a DataFrame."
   ]
  },
  {
   "cell_type": "code",
   "execution_count": null,
   "metadata": {},
   "outputs": [],
   "source": [
    "# run this cell\n",
    "ads = pd.read_csv('https://raw.githubusercontent.com/ds-modules/exec_ed/master/data/rocketfuel_data_renamed.csv', index_col=0)\n",
    "\n",
    "# display the first ten rows\n",
    "ads.head()"
   ]
  },
  {
   "cell_type": "markdown",
   "metadata": {},
   "source": [
    "This table, which we've named `ads`, is organized into six **columns**: one for each *category* of information collected about each user:\n",
    "\n",
    "| user id                             | test group                                                                                                        | converted                                | total ads                                           | most ads day                                                     | most ads hour                                                        |\n",
    "|-------------------------------------|-------------------------------------------------------------------------------------------------------------------|------------------------------------------|-----------------------------------------------------|------------------------------------------------------------------|----------------------------------------------------------------------|\n",
    "| The unique identifier for that user |  Which testing group the user was in: \"ad\"- where users saw the ads (the experimental group) or \"psa\"- where users saw the PSAs (the control)| Whether or not the user bought a handbag (1 if they did, 0 if they didn't)| The total number of ads (or PSAs) seen by that user | The day of the week on which the user saw the most ads (or PSAs) | The hour of the day during which the user saw the most ads (or PSAs) |\n",
    "\n",
    "You can also think about the table in terms of its **rows**. Each row represents all the experimental information collected about a particular user. By default only the first ten rows are shown. Can you see how many rows there are in total?\n",
    "\n",
    "The data in `ads` broadly falls into two types: numbers and text. *Numerical data* shows up green in code cells and can be positive, negative, or include a decimal."
   ]
  },
  {
   "cell_type": "code",
   "execution_count": null,
   "metadata": {},
   "outputs": [],
   "source": [
    "# Numerical data\n",
    "\n",
    "4\n",
    "\n",
    "87623000983\n",
    "\n",
    "-667\n",
    "\n",
    "3.14159"
   ]
  },
  {
   "cell_type": "markdown",
   "metadata": {},
   "source": [
    "Text data (also called *strings*) shows up red in code cells. Strings are enclosed in double or single quotes. Note that numbers can appear in strings."
   ]
  },
  {
   "cell_type": "code",
   "execution_count": null,
   "metadata": {},
   "outputs": [],
   "source": [
    "# Strings\n",
    "\"a\"\n",
    "\n",
    "\"Hi there!\"\n",
    "\n",
    "\"We hold these truths to be self-evident, that all men are created equal.\"\n",
    "\n",
    "# to the computer this is a string, NOT numerical data\n",
    "\"3.14159\""
   ]
  },
  {
   "cell_type": "markdown",
   "metadata": {},
   "source": [
    "<div class=\"alert alert-warning\"><p><b>QUESTION:</b> Take another look at the data in the `ads` DataFrame. Which columns have numerical data? Which columns have string data?</p>\n",
    "<p>The next cell has the names of all the columns. Inside the parentheses next to each name, replace the ellipses with \"numerical\" if the column has numerical data or \"string\" if the column has text data. The first one has been filled in as an example.</p></div>"
   ]
  },
  {
   "cell_type": "code",
   "execution_count": null,
   "metadata": {},
   "outputs": [],
   "source": [
    "user_id = \"numerical\"\n",
    "test_group = \"...\"\n",
    "converted = \"...\"\n",
    "total_ads = \"...\"\n",
    "most_ads_day = \"...\"\n",
    "most_ads_hour = \"...\""
   ]
  },
  {
   "cell_type": "markdown",
   "metadata": {},
   "source": [
    "# 1. Python <a id='section 1'></a>\n",
    "\n",
    "**Python** is  programming language- a way for us to communicate with the computer and give it instructions. Just like any language, Python has a *vocabulary* made up of words it can understand, and a *syntax* giving the rules for how to structure communication.\n",
    "\n",
    "Like natural human languages, Python has rules.  It differs from natural language in two important ways:\n",
    "1. The rules are *simple*.  You can learn most of them in a few weeks and gain reasonable proficiency with the language in a few months.\n",
    "2. The rules are *rigid*.  If you're proficient in a natural language, you can understand a non-proficient speaker, glossing over small mistakes.  A computer running Python code is not smart enough to do that.\n",
    "\n",
    "In this notebook, we're going to learn a few of those rules."
   ]
  },
  {
   "cell_type": "markdown",
   "metadata": {},
   "source": [
    "### 1a. Expressions <a id='subsection 1a'></a>\n",
    "A piece of communication in Python is called an **expression**- it tells the computer what to do with the data we give it.\n",
    "\n",
    "Here's an example of an expression. "
   ]
  },
  {
   "cell_type": "code",
   "execution_count": null,
   "metadata": {},
   "outputs": [],
   "source": [
    "# an expression\n",
    "14 + 20"
   ]
  },
  {
   "cell_type": "markdown",
   "metadata": {},
   "source": [
    "When you run the cell, the computer **evaluates** the expression and prints the result. Note that only the last line in a code cell will ever be printed, unless you explicitly tell the computer you want to print the result."
   ]
  },
  {
   "cell_type": "code",
   "execution_count": null,
   "metadata": {},
   "outputs": [],
   "source": [
    "# more expressions. When you run the cell, what gets printed and what doesn't?\n",
    "100 / 10\n",
    "\n",
    "print(4.3 + 10.98)\n",
    "\n",
    "33 - 9 * (40000 + 1)\n",
    "\n",
    "884"
   ]
  },
  {
   "cell_type": "markdown",
   "metadata": {},
   "source": [
    "Many basic arithmetic operations can be used in Python, like `*` (multiplication), `+` (addition), `-` (subtraction), and `/` (division). There are many others, which you can find information about [here](http://www.inferentialthinking.com/chapters/03/1/expressions.html). \n",
    "\n",
    "The computer evaluates arithmetic according to the PEMDAS order of operations (just like you may have learned in middle school): anything in parentheses is done first, followed by exponents, then multiplication and division, and finally addition and subtraction."
   ]
  },
  {
   "cell_type": "markdown",
   "metadata": {},
   "source": [
    "<div class=\"alert alert-warning\"><b>EXERCISE:</b> According to the PEMDAS order of operations, what should the next cell print? Work it out in your head or on paper, then run the cell to check your answer."
   ]
  },
  {
   "cell_type": "code",
   "execution_count": null,
   "metadata": {},
   "outputs": [],
   "source": [
    "# before you run this cell, can you say what it should print?\n",
    "4 - 2 * (1 + 6 / 3)"
   ]
  },
  {
   "cell_type": "markdown",
   "metadata": {},
   "source": [
    "<div class=\"alert alert-info\"><b>OPTIONAL:</b> If you're new to programming, use the next cell to practice arithmetic operations on numbers using operators like `*` (multiplication), `+` (addition), `-` (subtraction), and `/` (division)"
   ]
  },
  {
   "cell_type": "code",
   "execution_count": null,
   "metadata": {},
   "outputs": [],
   "source": [
    "# practice doing arithmetic in Python\n"
   ]
  },
  {
   "cell_type": "markdown",
   "metadata": {},
   "source": [
    "#### A Note on Errors <a id=\"subsection error\"></a>\n",
    "\n",
    "Whenever you write code, you'll make mistakes.  When you run a code cell that has errors, Python will sometimes produce error messages to tell you what you did wrong.\n",
    "\n",
    "Errors are okay; even experienced programmers make many errors.  When you make an error, you just have to find the source of the problem, fix it, and move on.\n",
    "\n",
    "We have made an error in the next cell.  Run it and see what happens."
   ]
  },
  {
   "cell_type": "code",
   "execution_count": null,
   "metadata": {},
   "outputs": [],
   "source": [
    "print(\"This line is missing something.\""
   ]
  },
  {
   "cell_type": "markdown",
   "metadata": {},
   "source": [
    "You should see something like this (minus our annotations):\n",
    "\n",
    "<img src=\"images/error.jpg\"/>\n",
    "\n",
    "The last line of the error output attempts to tell you what went wrong.  The *syntax* of a language is its structure, and this `SyntaxError` tells you that you have created an illegal structure.  \"`EOF`\" means \"end of file,\" so the message is saying Python expected you to write something more (in this case, a right parenthesis) before finishing the cell.\n",
    "\n",
    "There's a lot of terminology in programming languages, but you don't need to know it all in order to program effectively. If you see a cryptic message like this, you can often get by without fully deciphering it. "
   ]
  },
  {
   "cell_type": "markdown",
   "metadata": {},
   "source": [
    "<div class=\"alert alert-warning\"><b> EXERCISE</b>: Scroll back up to the cell that generated an error. Fix the error, and re-run the cell. </div>"
   ]
  },
  {
   "cell_type": "markdown",
   "metadata": {},
   "source": [
    "### 1b. Names <a id='subsection 1b'></a>\n",
    "Sometimes, the values you work with can get cumbersome- maybe the expression that gives the value is very complicated, or maybe the value itself is long. In these cases it's useful to give the value a **name**.\n",
    "\n",
    "We can name values using what's called an *assignment* statement."
   ]
  },
  {
   "cell_type": "code",
   "execution_count": null,
   "metadata": {},
   "outputs": [],
   "source": [
    "# assigns 442 to x\n",
    "x = 442"
   ]
  },
  {
   "cell_type": "markdown",
   "metadata": {},
   "source": [
    "The assignment statement has three parts. On the left is the *name* (`x`). On the right is the *value* (442). The *equals sign* in the middle tells the computer to assign the value to the name.\n",
    "\n",
    "You'll notice that when you run the cell with the assignment, it doesn't print anything. But, if we try to access `x` again in the future, it will have the value we assigned it."
   ]
  },
  {
   "cell_type": "code",
   "execution_count": null,
   "metadata": {},
   "outputs": [],
   "source": [
    "# print the value of x\n",
    "x"
   ]
  },
  {
   "cell_type": "markdown",
   "metadata": {},
   "source": [
    "You can also assign names to expressions. The computer will compute the expression and assign the name to the result of the computation."
   ]
  },
  {
   "cell_type": "code",
   "execution_count": null,
   "metadata": {},
   "outputs": [],
   "source": [
    "y = 50 * 2 + 1\n",
    "y"
   ]
  },
  {
   "cell_type": "markdown",
   "metadata": {},
   "source": [
    "We can then use these name as if they were numbers."
   ]
  },
  {
   "cell_type": "code",
   "execution_count": null,
   "metadata": {},
   "outputs": [],
   "source": [
    "x - 42"
   ]
  },
  {
   "cell_type": "code",
   "execution_count": null,
   "metadata": {},
   "outputs": [],
   "source": [
    "x + y"
   ]
  },
  {
   "cell_type": "markdown",
   "metadata": {},
   "source": [
    "<div class=\"alert alert-warning\"><p><b>EXERCISE:</b> Before Rocket Fuel can evaluate the effectiveness of the ad campaign, they need to know how much it cost.</p>\n",
    "\n",
    "<p>The *total number of advertisements* was $14597182$. The *CPM* (cost per thousand ads) was $\\$9$. Use these numbers to assign the correct values to `total_ads`, `cpm`, and `cost_per_ad`.</p>\n",
    "\n",
    "<p>Note: for the third variable, we want the cost *for each ad*. What do we need to do to the CPM to get the per-ad cost?</p></div>"
   ]
  },
  {
   "cell_type": "code",
   "execution_count": null,
   "metadata": {},
   "outputs": [],
   "source": [
    "# replace the ... with the total number of ads\n",
    "total_ads = ...\n",
    "total_ads"
   ]
  },
  {
   "cell_type": "code",
   "execution_count": null,
   "metadata": {},
   "outputs": [],
   "source": [
    "# replace the ... with the cost per thousand ads\n",
    "cpm = ...\n",
    "cpm"
   ]
  },
  {
   "cell_type": "code",
   "execution_count": null,
   "metadata": {},
   "outputs": [],
   "source": [
    "# replace the ... with an expression to calculate the cost per ad\n",
    "cost_per_ad = ...\n",
    "cost_per_ad"
   ]
  },
  {
   "cell_type": "markdown",
   "metadata": {},
   "source": [
    "<div class=\"alert alert-warning\"> <p><b>EXERCISE</b>: Then, calculate the overall cost by multiplying the number of ads by how much each ad cost. Assign this value to the name `cost`.</p>\n",
    "\n",
    "<p>Hint: you can do the calculation by using only using `total_ads`, `cost_per_ad`, and the `*` multiplication operator- no numbers needed. Your answer should be a six-digit number (before the decimal).</p>"
   ]
  },
  {
   "cell_type": "code",
   "execution_count": null,
   "metadata": {},
   "outputs": [],
   "source": [
    "# replace the ... with an expression to calculate the cost of the ad campaign\n",
    "cost = total_ads * cost_per_ad\n",
    "cost"
   ]
  },
  {
   "cell_type": "markdown",
   "metadata": {},
   "source": [
    "### 1c. Functions <a id='subsection 1c'></a>\n",
    "We've seen that values can have names (often called **variables**), but operations may also have names. A named operation is called a **function**. Python has some functions built into it."
   ]
  },
  {
   "cell_type": "code",
   "execution_count": null,
   "metadata": {},
   "outputs": [],
   "source": [
    "# a built-in function \n",
    "round"
   ]
  },
  {
   "cell_type": "markdown",
   "metadata": {},
   "source": [
    "Functions get used in *call expressions*, where a function is named and given values to operate on inside a set of parentheses. The `round` function returns the number it was given, rounded to the nearest whole number."
   ]
  },
  {
   "cell_type": "code",
   "execution_count": null,
   "metadata": {},
   "outputs": [],
   "source": [
    "# a call expression using round\n",
    "round(1988.74699)"
   ]
  },
  {
   "cell_type": "markdown",
   "metadata": {},
   "source": [
    "A function may also be called on more than one value (called *arguments*). For instance, the `min` function takes however many arguments you'd like and returns the smallest. Multiple arguments are separated by commas."
   ]
  },
  {
   "cell_type": "code",
   "execution_count": null,
   "metadata": {},
   "outputs": [],
   "source": [
    "min(9, -34, 0, 99)"
   ]
  },
  {
   "cell_type": "markdown",
   "metadata": {},
   "source": [
    "<div class= \"alert alert-warning\"><p><b>PRACTICE:</b></p>\n",
    "<ul>\n",
    "    <li>The `abs` function takes one argument (just like `round`)</li>\n",
    "    <li>The `max` function takes one or more arguments (just like `min`)</li>\n",
    "    </ul>\n",
    "\n",
    "<p>Try calling `abs` and `max` in the cell below. What does each function do?</p>\n",
    "\n",
    "<p>Also try calling each function *incorrectly*, such as with the wrong number of arguments. What kinds of error messages do you see?</p>"
   ]
  },
  {
   "cell_type": "code",
   "execution_count": null,
   "metadata": {},
   "outputs": [],
   "source": [
    "# replace the ... with calls to abs and max\n",
    "..."
   ]
  },
  {
   "cell_type": "markdown",
   "metadata": {},
   "source": [
    "#### Dot Notation\n",
    "Python has a lot of [built-in functions](https://docs.python.org/3/library/functions.html) (that is, functions that are already named and defined in Python), but even more functions are stored in collections called *modules*. Earlier, we imported the `math` module so we could use it later. Once a module is imported, you can use its functions by typing the name of the module, then the name of the function you want from it, separated with a `.`."
   ]
  },
  {
   "cell_type": "code",
   "execution_count": null,
   "metadata": {},
   "outputs": [],
   "source": [
    "# a call expression with the factorial function from the math module\n",
    "math.factorial(5)"
   ]
  },
  {
   "cell_type": "markdown",
   "metadata": {},
   "source": [
    "<div class=\"alert alert-warning\"><b>PRACTICE:</b>  `math` also has a function called `sqrt` that takes one argument and returns the square root. Call `sqrt` on 16 in the next cell."
   ]
  },
  {
   "cell_type": "code",
   "execution_count": null,
   "metadata": {},
   "outputs": [],
   "source": [
    "# use math.sqrt to get the square root of 16\n",
    "root_16 = ...\n",
    "\n",
    "# show the result of the expression\n",
    "root_16"
   ]
  },
  {
   "cell_type": "markdown",
   "metadata": {},
   "source": [
    "### 1d. Sequences <a id='subsection 1d'></a>\n",
    "\n",
    "Working with big data, we want to be able to work with many values at the same time rather than manipulating each data point individually. We can do this using *sequences*: collections of data, all sharing the same type (e.g. numerical). \n",
    "\n",
    "The sequence we'll work with the most is an **array**. Arrays are made using the `make_array` function. \n",
    "\n",
    "As an example, we might look at prices for a TaskBella handbag at different stores."
   ]
  },
  {
   "cell_type": "code",
   "execution_count": null,
   "metadata": {},
   "outputs": [],
   "source": [
    "# make an array\n",
    "prices = np.array([105.99, 99.99, 119.95, 130, 124.99])\n",
    "\n",
    "prices"
   ]
  },
  {
   "cell_type": "markdown",
   "metadata": {},
   "source": [
    "You can retrieve items in an array by **indexing**. To index an item, put the numerical position of the item in square brackets next to the name of the array."
   ]
  },
  {
   "cell_type": "code",
   "execution_count": null,
   "metadata": {},
   "outputs": [],
   "source": [
    "# get the item in position 1\n",
    "prices[1]"
   ]
  },
  {
   "cell_type": "markdown",
   "metadata": {},
   "source": [
    "When we ask for the item in position 1, we get $99.99$. This is because arrays are *zero-indexed*: the index starts counting at zero. So, the first item in the array is at position 0, the second item is at position 1, and so on."
   ]
  },
  {
   "cell_type": "markdown",
   "metadata": {},
   "source": [
    "<div class=\"alert alert-warning\"><b>PRACTICE:</b> Try indexing different items from the `prices` array.</div>"
   ]
  },
  {
   "cell_type": "code",
   "execution_count": null,
   "metadata": {},
   "outputs": [],
   "source": [
    "# index the last item in the list\n",
    "last_price = ...\n",
    "\n",
    "# show the last item in the array\n",
    "last_price"
   ]
  },
  {
   "cell_type": "markdown",
   "metadata": {},
   "source": [
    "#### Element-wise operations\n",
    "In some cases, we may want to do calculations on each individual item in the array to return a new array of the same length.\n",
    "\n",
    "We can do the *same operation* on every array item using arithmetic operators. This is called an **element-wise** operation. For instance, we might want to calculate the price for $5$ handbags bought at each of the different stores."
   ]
  },
  {
   "cell_type": "code",
   "execution_count": null,
   "metadata": {},
   "outputs": [],
   "source": [
    "# multiply each price by 5\n",
    "prices * 5"
   ]
  },
  {
   "cell_type": "markdown",
   "metadata": {},
   "source": [
    "We can also use operators on two arrays of the same length to operate on each pair of corresponding elements. For example, we might multiply our `prices` array by an array of tax rates for each store to get the amount of sales tax."
   ]
  },
  {
   "cell_type": "code",
   "execution_count": null,
   "metadata": {},
   "outputs": [],
   "source": [
    "tax_rates = make_array(0.095, 0.11, 0.087, 0.1, 0.084)\n",
    "\n",
    "# multiply each price by its corresponding tax\n",
    "prices * tax_rates"
   ]
  },
  {
   "cell_type": "markdown",
   "metadata": {},
   "source": [
    "#### Reductions\n",
    "In other cases, we might want to *reduce* an array of numbers to a single value using a particular function. Some examples of reduction functions are `sum`, `min`, `max`, `average`, and `median`. Many array functions come from the *Numpy* module. Just like with the `math` module, we can call functions from the Numpy module using dot notation. Numpy is abbreviated as `np`."
   ]
  },
  {
   "cell_type": "code",
   "execution_count": null,
   "metadata": {},
   "outputs": [],
   "source": [
    " # get the average handbag price\n",
    "np.average(prices)"
   ]
  },
  {
   "cell_type": "code",
   "execution_count": null,
   "metadata": {},
   "outputs": [],
   "source": [
    "# get the lowest sales tax rate\n",
    "np.min(tax_rates)"
   ]
  },
  {
   "cell_type": "markdown",
   "metadata": {},
   "source": [
    "<div class=\"alert alert-warning\"> <b>EXERCISE:</b> Use the `prices` and `tax_rates` arrays to try some operations. <ol>\n",
    "    <li>replace the first ellipses with an expression to add 10 to each price.</li>\n",
    "    <li>replace the second set of ellipses with an expression to divide all taxes in half</li>\n",
    "    <li>replace the last set of ellipses to create a variable `max_price` that is the largest price in the `prices` array. Use the function `np.max`</li>\n",
    "    </ol>\n",
    "    </div>"
   ]
  },
  {
   "cell_type": "code",
   "execution_count": null,
   "metadata": {},
   "outputs": [],
   "source": [
    "#  practice manipulating arrays\n",
    "price_plus_10 = ...\n",
    "\n",
    "taxes_reduced_by_half = ...\n",
    "\n",
    "max_price = ..."
   ]
  },
  {
   "cell_type": "markdown",
   "metadata": {},
   "source": [
    "### Conclusion\n",
    "\n",
    "In this notebook, we covered expressions, names, functions, and sequences in Python: what they are and how to use them. We got some practice using Python to calculate some important numbers for the Rocket Fuel analysis. \n",
    "\n",
    "In the next notebook, we'll learn how to manipulate and transform data in a DataFrame."
   ]
  },
  {
   "cell_type": "markdown",
   "metadata": {},
   "source": [
    "#### References\n",
    "\n",
    "- \"A Note on Errors\" subsection and \"error\" image adapted from materials by Chris Hench and Mariah Rogers for the Medieval Studies 250: Text Analysis for Graduate Medievalists [data science module](https://github.com/ds-modules/MEDST-250).\n",
    "- Rocket Fuel data and discussion questions adapted from materials by Zsolt Katona and Brian Bell, BerkeleyHaas Case Series"
   ]
  },
  {
   "cell_type": "markdown",
   "metadata": {},
   "source": [
    "Author: Keeley Takimoto"
   ]
  }
 ],
 "metadata": {
  "kernelspec": {
   "display_name": "Python 3",
   "language": "python",
   "name": "python3"
  },
  "language_info": {
   "codemirror_mode": {
    "name": "ipython",
    "version": 3
   },
   "file_extension": ".py",
   "mimetype": "text/x-python",
   "name": "python",
   "nbconvert_exporter": "python",
   "pygments_lexer": "ipython3",
   "version": "3.6.4"
  }
 },
 "nbformat": 4,
 "nbformat_minor": 2
}
